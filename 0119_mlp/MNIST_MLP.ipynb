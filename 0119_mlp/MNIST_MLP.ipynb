{
 "cells": [
  {
   "cell_type": "code",
   "execution_count": 2,
   "metadata": {
    "id": "sRTTu9VPiQ2f"
   },
   "outputs": [
    {
     "name": "stderr",
     "output_type": "stream",
     "text": [
      "2023-01-25 14:15:13.197754: I tensorflow/stream_executor/platform/default/dso_loader.cc:53] Successfully opened dynamic library libcudart.so.11.0\n"
     ]
    }
   ],
   "source": [
    "# Basic tools\n",
    "import numpy as np\n",
    "import pandas as pd\n",
    "import matplotlib.pyplot as plt\n",
    "\n",
    "# DL tools\n",
    "import torch \n",
    "import torch.nn as nn\n",
    "import torch.nn.functional as F\n",
    "from sklearn.model_selection import train_test_split\n",
    "import tensorflow as tf\n",
    "from tensorflow import keras\n",
    "from tensorflow.keras.utils import to_categorical\n",
    "\n",
    "# OS tool\n",
    "import os"
   ]
  },
  {
   "cell_type": "code",
   "execution_count": 3,
   "metadata": {
    "colab": {
     "base_uri": "https://localhost:8080/"
    },
    "executionInfo": {
     "elapsed": 786,
     "status": "ok",
     "timestamp": 1674105588819,
     "user": {
      "displayName": "YoungHwan Lee",
      "userId": "14016917613666273015"
     },
     "user_tz": -540
    },
    "id": "FhqicXF8oFDF",
    "outputId": "88de753e-90bb-40e7-b9c5-dc832e9269b6"
   },
   "outputs": [
    {
     "name": "stdout",
     "output_type": "stream",
     "text": [
      "device: cuda\n"
     ]
    }
   ],
   "source": [
    "device = torch.device('cuda')\n",
    "print('device:', device)"
   ]
  },
  {
   "cell_type": "code",
   "execution_count": 4,
   "metadata": {
    "colab": {
     "base_uri": "https://localhost:8080/"
    },
    "executionInfo": {
     "elapsed": 428,
     "status": "ok",
     "timestamp": 1674105589245,
     "user": {
      "displayName": "YoungHwan Lee",
      "userId": "14016917613666273015"
     },
     "user_tz": -540
    },
    "id": "kHTK06rSiY8V",
    "outputId": "9613610b-3176-42b8-861c-d93fd66fb21b"
   },
   "outputs": [
    {
     "name": "stdout",
     "output_type": "stream",
     "text": [
      "Train 데이터 크기: ((48000, 28, 28), (48000,))\n",
      "Validation 데이터 크기: ((12000, 28, 28), (12000,))\n",
      "Test 데이터 크기:((10000, 28, 28), (10000,))\n"
     ]
    }
   ],
   "source": [
    "# Loading the data\n",
    "(x_train, y_train), (x_test, y_test) = tf.keras.datasets.mnist.load_data()\n",
    "\n",
    "# Min-Max scaling\n",
    "x_train = x_train/255.0\n",
    "x_test = x_test/255.0\n",
    "\n",
    "# Split train data into Train/Validation data\n",
    "x_train, x_val, y_train, y_val = train_test_split(x_train, y_train, test_size = 0.2, shuffle=True)\n",
    "\n",
    "# Check data shape\n",
    "print(f\"Train 데이터 크기: {x_train.shape, y_train.shape}\")\n",
    "print(f\"Validation 데이터 크기: {x_val.shape, y_val.shape}\")\n",
    "print(f\"Test 데이터 크기:{x_test.shape, y_test.shape}\")\n"
   ]
  },
  {
   "cell_type": "code",
   "execution_count": 5,
   "metadata": {
    "colab": {
     "base_uri": "https://localhost:8080/",
     "height": 282
    },
    "executionInfo": {
     "elapsed": 550,
     "status": "ok",
     "timestamp": 1674105589793,
     "user": {
      "displayName": "YoungHwan Lee",
      "userId": "14016917613666273015"
     },
     "user_tz": -540
    },
    "id": "SgsWDp8DimYz",
    "outputId": "51aa7adf-331f-4cf4-fe68-0d0da08aaef1"
   },
   "outputs": [
    {
     "name": "stdout",
     "output_type": "stream",
     "text": [
      "첫번째 이미지 라벨: 8 \n",
      "두번째 이미지 라벨: 0 \n"
     ]
    },
    {
     "data": {
      "image/png": "[encoded data removed]",
      "text/plain": [
       "<Figure size 1296x576 with 2 Axes>"
      ]
     },
     "metadata": {
      "needs_background": "light"
     },
     "output_type": "display_data"
    }
   ],
   "source": [
    "# Check\n",
    "fig = plt.figure(figsize=(18,8))\n",
    "ax1 = fig.add_subplot(211)\n",
    "img1 = plt.imshow(x_train[0].reshape(28, 28)).set_cmap('Greys')\n",
    "ax2 = fig.add_subplot(222)\n",
    "img2 = plt.imshow(x_train[1].reshape(28, 28)).set_cmap('Greys')\n",
    "print(f\"첫번째 이미지 라벨: {y_train[0]} \")\n",
    "print(f\"두번째 이미지 라벨: {y_train[1]} \")"
   ]
  },
  {
   "cell_type": "code",
   "execution_count": 6,
   "metadata": {
    "id": "hYk7WJbiint1"
   },
   "outputs": [],
   "source": [
    "class Mydataset(torch.utils.data.Dataset):\n",
    "\n",
    "    # 데이터 전처리 \n",
    "    def __init__(self, dataX_np , dataY_np):\n",
    "        self.data_X = dataX_np.astype(np.float32)\n",
    "        self.data_Y = dataY_np.astype(np.float32) \n",
    "\n",
    "        print(f\"My_dataset __init__ received : {self.data_X.shape}, {self.data_Y.shape} \")\n",
    "\n",
    "    # 인덱스를 입력받아 인덱스에 알맞는 입출력 데이터를 Return\n",
    "    def __getitem__(self, index):\n",
    "        image = self.data_X[index]\n",
    "        label = self.data_Y[index]\n",
    "        # One hot encoding\n",
    "        # 0~9 숫자로 되어있는 라벨을 one hot encoding 형식으로 변환합니다. 이는 이후 MLP의 출력이 10차원이기에 Loss를 계산하기 위해 진행하였습니다.  \n",
    "        label = to_categorical(label, num_classes = 10)\n",
    "\n",
    "        return image, label\n",
    "    \n",
    "    # 총 데이터 개수를 Return\n",
    "    def __len__(self):\n",
    "        return len(self.data_X)"
   ]
  },
  {
   "cell_type": "code",
   "execution_count": 53,
   "metadata": {
    "colab": {
     "base_uri": "https://localhost:8080/"
    },
    "executionInfo": {
     "elapsed": 15,
     "status": "ok",
     "timestamp": 1674105589795,
     "user": {
      "displayName": "YoungHwan Lee",
      "userId": "14016917613666273015"
     },
     "user_tz": -540
    },
    "id": "D3eHRHz0ixFl",
    "outputId": "75d01a9e-6144-4cab-b88a-d5fd8f1f717e"
   },
   "outputs": [
    {
     "name": "stdout",
     "output_type": "stream",
     "text": [
      "My_dataset __init__ received : (48000, 784), (48000,) \n",
      "My_dataset __init__ received : (12000, 784), (12000,) \n",
      "My_dataset __init__ received : (10000, 784), (10000,) \n"
     ]
    }
   ],
   "source": [
    "batch_size = 256\n",
    "train_loader = torch.utils.data.DataLoader(Mydataset(x_train.reshape(-1,28*28), y_train), batch_size=batch_size, shuffle=False, drop_last = False)\n",
    "valid_loader = torch.utils.data.DataLoader(Mydataset(x_val.reshape(-1,28*28), y_val), batch_size = 1000000000, shuffle=False, drop_last = False)\n",
    "test_loader = torch.utils.data.DataLoader(Mydataset(x_test.reshape(-1,28*28), y_test), batch_size = 100000000, shuffle=False, drop_last = False)"
   ]
  },
  {
   "cell_type": "code",
   "execution_count": 44,
   "metadata": {
    "id": "gxloDOf49T2g"
   },
   "outputs": [],
   "source": [
    "class MLP(nn.Module):\n",
    "    def __init__(self):\n",
    "        super(MLP, self).__init__()\n",
    "        self.fc1 = nn.Linear(784, 512)\n",
    "        self.fc2 = nn.Linear(512, 256)\n",
    "        self.fc3 = nn.Linear(256, 10)\n",
    "        \n",
    "        self.dropout = nn.Dropout(0.25)\n",
    "\n",
    "    def forward(self, x):\n",
    "        x = self.fc1(x)\n",
    "        x = self.dropout(x)\n",
    "        x = F.relu(x)\n",
    "        x = self.fc2(x)\n",
    "        x = self.dropout(x)\n",
    "        x = F.relu(x) \n",
    "        x = self.fc3(x)\n",
    "\n",
    "        # Pytorch에서는 Softmax가 CrossEntropy함수안에 내장되어있기에 없어도 됩니다. \n",
    "        # 이후 Loss를 CrossEntropy를 사용할 것이기에 제외하였습니다.\n",
    "        # x = F.log_softmax(x, dim=1)\n",
    "\n",
    "        return x"
   ]
  },
  {
   "cell_type": "code",
   "execution_count": 33,
   "metadata": {
    "id": "ZgoDO9pgk0eu"
   },
   "outputs": [],
   "source": [
    "from statistics import mean \n",
    "import time\n",
    "\n",
    "def train(model, criterion_, optimizer_, scheduler_, num_epochs=40, first_epoch=1):\n",
    "    \n",
    "    train_losses = []\n",
    "    valid_losses = []\n",
    "    test_losses = []\n",
    "\n",
    "    print(\"----------------------------------------------------------------------------\")\n",
    "\n",
    "    start_time = time.time()\n",
    "    for epoch in range(first_epoch, first_epoch + num_epochs):\n",
    "        # train phase\n",
    "        model.train()\n",
    "        \n",
    "        # batch_loss \n",
    "        batch_losses = []\n",
    "\n",
    "        for images, labels in train_loader:\n",
    "            \n",
    "            # Move the training data to the GPU\n",
    "            images = images.to(device)   \n",
    "            labels = torch.argmax(labels, dim=1).long().to(device)\n",
    "            \n",
    "\n",
    "            # clear previous gradient computation\n",
    "            optimizer_.zero_grad()\n",
    "\n",
    "            # forward propagation\n",
    "            outputs = model(images)\n",
    "\n",
    "            # calculate the loss\n",
    "            loss = criterion_.forward(outputs, labels)\n",
    "            batch_losses.append(loss.item())\n",
    "\n",
    "            # backpropagate to compute gradients\n",
    "            loss.backward()\n",
    "\n",
    "            # update model weights\n",
    "            optimizer_.step()\n",
    "\n",
    "        # Train loss를 저장합니다.\n",
    "        train_losses.append(mean(batch_losses))\n",
    "\n",
    "        # validation phase\n",
    "        # Dropout, BatchNormalization과 같은 layer가 동작하지 않도록 합니다.\n",
    "        model.eval()\n",
    "\n",
    "        # We don't need gradients for test, so wrap in \n",
    "        # no_grad to save memory\n",
    "        # 기울기 Gradient를 계산하지 않으며 backpropagation을 하지 않습니다. \n",
    "        with torch.no_grad():\n",
    "            \n",
    "            correct_test = 0\n",
    "\n",
    "            for images, labels in valid_loader:\n",
    "\n",
    "                # Move the training batch to the GPU\n",
    "                images = images.to(device)\n",
    "                labels = torch.argmax(labels, dim=1).long().to(device)\n",
    "\n",
    "                # forward propagation\n",
    "                outputs = model(images)\n",
    "\n",
    "                # calculate the loss\n",
    "                loss = criterion_(outputs, labels)\n",
    "                valid_losses.append(loss.item())\n",
    "\n",
    "            for images, labels in test_loader:\n",
    "                # Move the training batch to the GPU\n",
    "                images = images.to(device)\n",
    "                labels = torch.argmax(labels, dim=1).long().to(device)\n",
    "\n",
    "                # forward propagation\n",
    "                outputs = model(images)\n",
    "\n",
    "                # calculate the loss\n",
    "                loss = criterion_(outputs, labels)\n",
    "                test_losses.append(loss.item())\n",
    "\n",
    "                # Check Accuracy\n",
    "                # preds 는 output 중에서 가장 높은 값의 index를 가집니다. \n",
    "                _, preds = torch.max(outputs, 1)\n",
    "\n",
    "                # label이 현재 one hot encoding 형태로 되어있기에 preds를 index로 받아 1인지 확인합니다. \n",
    "                # ex) 숫자 2 : label = [0,0,1,0,0,...,0] , label[i][preds] == 1 -> 정답\n",
    "                for i in range(len(preds)):\n",
    "                  if labels[i] == preds[i]:\n",
    "                    correct_test +=1\n",
    "        \n",
    "        # 원하는 Epoch마다 결과 출력 \n",
    "        if (epoch) % 1== 0 :\n",
    "            curr_time = round(time.time()-start_time)\n",
    "            train_rec = round(train_losses[-1],5)\n",
    "            valid_rec = round(valid_losses[-1],5)\n",
    "            test_rec = round(test_losses[-1],5)\n",
    "            test_acc = round(100*(correct_test)/len(labels),3)\n",
    "            print('Epoch', epoch, ' / ',num_epochs)\n",
    "            print(f\"\\t [Train loss : {train_rec}]  [Validation loss : {valid_rec}] [Test loss : {test_rec}], [Test Accuracy : {test_acc}%],[curr LR = {scheduler_.get_last_lr()}],[elapsed_time = {curr_time}sec] \")\n",
    "\n",
    "        # Learning rate Scheduling\n",
    "        # Scheduler에 따라 learning rate를 조절합니다. \n",
    "        scheduler_.step()\n",
    "        \n",
    "      \n",
    "    print(f\"\\nTrain Ended, total_elapsed_time = {round(time.time()-start_time)} \")\n",
    "    print(\"--------------------------------------------------------------------\")\n",
    "    \n",
    "    # Loss 값 반환\n",
    "    return train_losses, valid_losses, test_losses"
   ]
  },
  {
   "cell_type": "code",
   "execution_count": 54,
   "metadata": {
    "id": "9G2STZq9YDYk"
   },
   "outputs": [],
   "source": [
    "# Moodel Setting \n",
    "model = MLP()\n",
    "model.to(device)\n",
    "\n",
    "# Optimizer\n",
    "# Optimzer와 Learning rate를 설정해줍니다.\n",
    "optimizer = torch.optim.Adam(model.parameters(), lr=0.01)\n",
    "\n",
    "# Loss Function\n",
    "criterion = nn.CrossEntropyLoss()\n",
    "\n",
    "# Learning rate scheduler\n",
    "# epoch가 10번 돌때마다 learning rate를 gamma만큼 곱해 사용합니다. ex) 0.01 -> 0.005\n",
    "scheduler = torch.optim.lr_scheduler.StepLR(optimizer, step_size=5, gamma=0.5)"
   ]
  },
  {
   "cell_type": "markdown",
   "metadata": {
    "id": "7CZOAkyaYMx8"
   },
   "source": [
    "## Training"
   ]
  },
  {
   "cell_type": "code",
   "execution_count": 55,
   "metadata": {
    "colab": {
     "base_uri": "https://localhost:8080/"
    },
    "executionInfo": {
     "elapsed": 603009,
     "status": "ok",
     "timestamp": 1674106212118,
     "user": {
      "displayName": "YoungHwan Lee",
      "userId": "14016917613666273015"
     },
     "user_tz": -540
    },
    "id": "7O8pE28EcZ2j",
    "outputId": "dfa81710-6d74-42b8-b432-dc446444052c"
   },
   "outputs": [
    {
     "name": "stdout",
     "output_type": "stream",
     "text": [
      "----------------------------------------------------------------------------\n",
      "Epoch 1  /  15\n",
      "\t [Train loss : 0.31536]  [Validation loss : 0.14211] [Test loss : 0.1431], [Test Accuracy : 95.6%],[curr LR = [0.01]],[elapsed_time = 2sec] \n",
      "Epoch 2  /  15\n",
      "\t [Train loss : 0.17536]  [Validation loss : 0.13078] [Test loss : 0.12227], [Test Accuracy : 96.35%],[curr LR = [0.01]],[elapsed_time = 3sec] \n",
      "Epoch 3  /  15\n",
      "\t [Train loss : 0.15576]  [Validation loss : 0.13116] [Test loss : 0.12247], [Test Accuracy : 96.49%],[curr LR = [0.01]],[elapsed_time = 5sec] \n",
      "Epoch 4  /  15\n",
      "\t [Train loss : 0.15139]  [Validation loss : 0.14429] [Test loss : 0.14221], [Test Accuracy : 96.23%],[curr LR = [0.01]],[elapsed_time = 6sec] \n",
      "Epoch 5  /  15\n",
      "\t [Train loss : 0.15672]  [Validation loss : 0.12751] [Test loss : 0.11435], [Test Accuracy : 96.85%],[curr LR = [0.01]],[elapsed_time = 8sec] \n",
      "Epoch 6  /  15\n",
      "\t [Train loss : 0.09174]  [Validation loss : 0.09003] [Test loss : 0.09231], [Test Accuracy : 97.56%],[curr LR = [0.005]],[elapsed_time = 10sec] \n",
      "Epoch 7  /  15\n",
      "\t [Train loss : 0.06891]  [Validation loss : 0.0966] [Test loss : 0.09635], [Test Accuracy : 97.49%],[curr LR = [0.005]],[elapsed_time = 11sec] \n",
      "Epoch 8  /  15\n",
      "\t [Train loss : 0.06275]  [Validation loss : 0.0933] [Test loss : 0.09094], [Test Accuracy : 97.79%],[curr LR = [0.005]],[elapsed_time = 13sec] \n",
      "Epoch 9  /  15\n",
      "\t [Train loss : 0.06093]  [Validation loss : 0.09864] [Test loss : 0.09238], [Test Accuracy : 97.69%],[curr LR = [0.005]],[elapsed_time = 15sec] \n",
      "Epoch 10  /  15\n",
      "\t [Train loss : 0.05844]  [Validation loss : 0.09887] [Test loss : 0.09462], [Test Accuracy : 97.66%],[curr LR = [0.005]],[elapsed_time = 16sec] \n",
      "Epoch 11  /  15\n",
      "\t [Train loss : 0.04158]  [Validation loss : 0.08155] [Test loss : 0.07915], [Test Accuracy : 98.06%],[curr LR = [0.0025]],[elapsed_time = 18sec] \n",
      "Epoch 12  /  15\n",
      "\t [Train loss : 0.03162]  [Validation loss : 0.08657] [Test loss : 0.08042], [Test Accuracy : 98.15%],[curr LR = [0.0025]],[elapsed_time = 20sec] \n",
      "Epoch 13  /  15\n",
      "\t [Train loss : 0.03274]  [Validation loss : 0.08961] [Test loss : 0.08544], [Test Accuracy : 98.09%],[curr LR = [0.0025]],[elapsed_time = 21sec] \n",
      "Epoch 14  /  15\n",
      "\t [Train loss : 0.02991]  [Validation loss : 0.09028] [Test loss : 0.09106], [Test Accuracy : 97.95%],[curr LR = [0.0025]],[elapsed_time = 23sec] \n",
      "Epoch 15  /  15\n",
      "\t [Train loss : 0.02775]  [Validation loss : 0.09093] [Test loss : 0.08584], [Test Accuracy : 98.07%],[curr LR = [0.0025]],[elapsed_time = 25sec] \n",
      "\n",
      "Train Ended, total_elapsed_time = 25 \n",
      "--------------------------------------------------------------------\n"
     ]
    }
   ],
   "source": [
    "train_losses, valid_losses, test_losses = train(model, criterion_ = criterion, optimizer_ = optimizer, scheduler_ = scheduler, num_epochs=15)"
   ]
  },
  {
   "cell_type": "markdown",
   "metadata": {
    "id": "Cs8DOtIaX7_K"
   },
   "source": [
    "# Plot Result\n",
    "---"
   ]
  },
  {
   "cell_type": "code",
   "execution_count": 36,
   "metadata": {
    "id": "dzQ0Fcek5lRt"
   },
   "outputs": [],
   "source": [
    "def plot_result(train_loss, val_loss, test_loss):\n",
    "  plt.figure(figsize=(20,8))\n",
    "  plt.plot(train_loss, label='Train Loss', linewidth='3')\n",
    "  plt.plot(val_loss, label='Validation Loss', linewidth='3')\n",
    "  plt.plot(test_loss, label='Test Loss', linewidth='3')\n",
    "  plt.grid()\n",
    "  plt.rc('xtick', labelsize=12)\n",
    "  plt.rc('ytick', labelsize=12)  \n",
    "  plt.legend()\n",
    "  plt.rc('legend', fontsize=15)  \n",
    "  plt.xlabel('Number of Eopch')\n",
    "  plt.ylabel('Cross Entropy Loss')\n",
    "  plt.rc('axes', labelsize=17)  \n"
   ]
  },
  {
   "cell_type": "code",
   "execution_count": 56,
   "metadata": {
    "colab": {
     "base_uri": "https://localhost:8080/",
     "height": 497
    },
    "executionInfo": {
     "elapsed": 775,
     "status": "ok",
     "timestamp": 1674106253538,
     "user": {
      "displayName": "YoungHwan Lee",
      "userId": "14016917613666273015"
     },
     "user_tz": -540
    },
    "id": "Tkh-ihpJge0M",
    "outputId": "75967638-4282-46b6-9dc8-fac2a397036a"
   },
   "outputs": [
    {
     "data": {
      "image/png": "[encoded data removed]",
      "text/plain": [
       "<Figure size 1440x576 with 1 Axes>"
      ]
     },
     "metadata": {
      "needs_background": "light"
     },
     "output_type": "display_data"
    }
   ],
   "source": [
    "plot_result(train_losses, valid_losses, test_losses)"
   ]
  }
 ],
 "metadata": {
  "accelerator": "GPU",
  "colab": {
   "provenance": [],
   "toc_visible": true
  },
  "gpuClass": "standard",
  "kernelspec": {
   "display_name": "Python 3 (ipykernel)",
   "language": "python",
   "name": "python3"
  },
  "language_info": {
   "codemirror_mode": {
    "name": "ipython",
    "version": 3
   },
   "file_extension": ".py",
   "mimetype": "text/x-python",
   "name": "python",
   "nbconvert_exporter": "python",
   "pygments_lexer": "ipython3",
   "version": "3.7.11"
  }
 },
 "nbformat": 4,
 "nbformat_minor": 4
}
