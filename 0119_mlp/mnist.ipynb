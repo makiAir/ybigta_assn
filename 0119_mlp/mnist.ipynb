{
 "cells": [
  {
   "cell_type": "code",
   "execution_count": 2,
   "metadata": {},
   "outputs": [],
   "source": [
    "import numpy as np \n",
    "import matplotlib.pyplot as plt \n",
    "import matplotlib.ticker as ticker\n",
    "from mpl_toolkits.mplot3d import Axes3D\n",
    "\n",
    "import torch \n",
    "import torch.nn as nn \n",
    "from sklearn.model_selection import train_test_split\n",
    "\n",
    "import torchvision\n",
    "import torchvision.transforms as transfroms"
   ]
  },
  {
   "cell_type": "code",
   "execution_count": 3,
   "metadata": {},
   "outputs": [
    {
     "name": "stdout",
     "output_type": "stream",
     "text": [
      "device:  mps\n"
     ]
    }
   ],
   "source": [
    "device = torch.device('mps')\n",
    "print('device: ', device)"
   ]
  },
  {
   "cell_type": "code",
   "execution_count": 4,
   "metadata": {},
   "outputs": [],
   "source": [
    "learning_rate = 0.001\n",
    "batch_size = 100\n",
    "epochs = 5"
   ]
  },
  {
   "cell_type": "code",
   "execution_count": 5,
   "metadata": {},
   "outputs": [],
   "source": [
    "train_set = torchvision.datasets.MNIST(\n",
    "    root = './data/MNIST',\n",
    "    train = True,\n",
    "    download = True,\n",
    "    transform = transfroms.Compose([\n",
    "        transfroms.ToTensor()\n",
    "    ])\n",
    ")\n",
    "dt_set = torchvision.datasets.MNIST(\n",
    "    root = './data/MNIST',\n",
    "    train = False,\n",
    "    download = True,\n",
    "    transform = transfroms.Compose([\n",
    "        transfroms.ToTensor()\n",
    "    ])\n",
    ")\n",
    "\n",
    "test_set, val_set = torch.utils.data.random_split(dt_set, [int(len(dt_set) / 2)] * 2)\n",
    "\n",
    "train_loader = torch.utils.data.DataLoader(train_set, batch_size=batch_size)\n",
    "valid_loader = torch.utils.data.DataLoader(val_set, batch_size=int(batch_size/2), shuffle=False, drop_last = False) \n",
    "test_loader = torch.utils.data.DataLoader(test_set, batch_size=int(batch_size/2))"
   ]
  },
  {
   "cell_type": "code",
   "execution_count": 6,
   "metadata": {},
   "outputs": [],
   "source": [
    "class GenMNIST(nn.Module):     \n",
    "    def __init__(self, inp_ = 2,  output_ = 1):         \n",
    "        super().__init__()\n",
    "\n",
    "        self.layer = nn.Sequential(\n",
    "            nn.Linear(784, 512),\n",
    "            nn.ReLU(),\n",
    "            nn.Linear(512, 256),\n",
    "            nn.ReLU(),\n",
    "            nn.Linear(256, 10),\n",
    "        )\n",
    "\n",
    "    def forward(self, x):         \n",
    "        out = self.layer(x)\n",
    "        return out      "
   ]
  },
  {
   "cell_type": "code",
   "execution_count": 7,
   "metadata": {},
   "outputs": [],
   "source": [
    "from statistics import mean    \n",
    "import time"
   ]
  },
  {
   "cell_type": "code",
   "execution_count": 8,
   "metadata": {},
   "outputs": [],
   "source": [
    "def train(model, criterion_, optimizer_, scheduler_, num_epochs=40, first_epoch=1):     \n",
    "    train_losses = []     \n",
    "    valid_losses = []     \n",
    "    test_losses = []     \n",
    "    print(\"----------------------------------------------------------------------------\")     \n",
    "    \n",
    "    start_time = time.time()     \n",
    "    for epoch in range(first_epoch, first_epoch + num_epochs):       \n",
    "        model.train()     \n",
    "        \n",
    "        batch_losses = []         \n",
    "        \n",
    "        for samples, labels in train_loader:             \n",
    "            samples = samples.to(device)                \n",
    "            labels = labels.to(device)             \n",
    "            \n",
    "            optimizer_.zero_grad()             \n",
    "            outputs = model(samples)             \n",
    "            \n",
    "            loss = criterion_.forward(outputs, labels)             \n",
    "            batch_losses.append(loss.item())             \n",
    "            \n",
    "            loss.backward()             \n",
    "            \n",
    "            optimizer_.step()         \n",
    "            \n",
    "        train_losses.append(mean(batch_losses))       \n",
    "        model.eval()\n",
    "        \n",
    "        with torch.no_grad():             \n",
    "            correct_test = 0             \n",
    "            for samples, labels in valid_loader:\n",
    "                samples = samples.to(device)                 \n",
    "                labels = labels.to(device)                 \n",
    "                \n",
    "                outputs = model(samples)                 \n",
    "                \n",
    "                loss = criterion_(outputs, labels)                 \n",
    "                valid_losses.append(loss.item())             \n",
    "            \n",
    "            for samples, labels in test_loader:                 \n",
    "                samples = samples.to(device)                 \n",
    "                labels = labels.to(device)                 \n",
    "                \n",
    "                outputs = model(samples) \n",
    "\n",
    "                loss = criterion_(outputs, labels)                 \n",
    "                test_losses.append(loss.item())         \n",
    "        \n",
    "        if (epoch) % 1000 == 0 :             \n",
    "            curr_time = round(time.time()-start_time)             \n",
    "            train_rec = round(train_losses[-1],5)             \n",
    "            valid_rec = round(valid_losses[-1],5)             \n",
    "            test_rec = round(test_losses[-1],5)             \n",
    "            print('Epoch', epoch, ' / ',num_epochs)             \n",
    "            print(f\"\\t [Train loss: {train_rec}]  [Validation loss: {valid_rec}] [Test loss: {test_rec}]  [curr LR = {scheduler_.get_last_lr()} ],[elapsed_time = {curr_time}sec]\")         \n",
    "            \n",
    "        scheduler_.step()     \n",
    "    \n",
    "    print(f\"\\nTrain Ended, total_elapsed_time = {round(time.time()-start_time)} \")     \n",
    "    print(\"--------------------------------------------------------------------\")     \n",
    "    \n",
    "    return train_losses, valid_losses, test_losses \n"
   ]
  },
  {
   "cell_type": "code",
   "execution_count": 9,
   "metadata": {},
   "outputs": [
    {
     "ename": "",
     "evalue": "",
     "output_type": "error",
     "traceback": [
      "\u001b[1;31m현재 셀 또는 이전 셀에서 코드를 실행하는 동안 Kernel이 충돌했습니다. 셀의 코드를 검토하여 오류의 가능한 원인을 식별하세요. 자세한 내용을 보려면 <a href='https://aka.ms/vscodeJupyterKernelCrash'> 여기 </a> 를 클릭하세요. 자세한 내용은 Jupyter <a href='command:jupyter.viewOutput'>로그</a>를 참조하세요."
     ]
    },
    {
     "ename": "",
     "evalue": "",
     "output_type": "error",
     "traceback": [
      "\u001b[1;31mCanceled future for execute_request message before replies were done"
     ]
    }
   ],
   "source": [
    "model = GenMNIST().to(device) \n",
    "criterion = nn.CrossEntropyLoss().to(device)\n",
    "optimizer = torch.optim.Adam(model.parameters(),  lr= learning_rate)    \n",
    "\n",
    "train_losses, valid_losses, test_losses = train(model, criterion_ = criterion, optimizer_ = optimizer, num_epochs=int(len(train_set)/batch_size))"
   ]
  }
 ],
 "metadata": {
  "kernelspec": {
   "display_name": "pt",
   "language": "python",
   "name": "python3"
  },
  "language_info": {
   "codemirror_mode": {
    "name": "ipython",
    "version": 3
   },
   "file_extension": ".py",
   "mimetype": "text/x-python",
   "name": "python",
   "nbconvert_exporter": "python",
   "pygments_lexer": "ipython3",
   "version": "3.10.8 | packaged by conda-forge | (main, Nov 22 2022, 08:25:29) [Clang 14.0.6 ]"
  },
  "orig_nbformat": 4,
  "vscode": {
   "interpreter": {
    "hash": "1b82c739553dfd95004a44b4bcd8e35ceedbbba25dc6d1bcca9a99dc5a201b73"
   }
  }
 },
 "nbformat": 4,
 "nbformat_minor": 2
}
