{
 "cells": [
  {
   "cell_type": "markdown",
   "id": "1569b061",
   "metadata": {
    "id": "2c03830c"
   },
   "source": [
    "# LSTM으로 음악 생성해보기\n",
    "\n",
    "### YBIGTA 22기 XXX\n",
    "\n",
    "## 1. Introduction\n",
    "\n",
    "LSTM은 string의 series가 들어왔을 때 다음에 나올 string을 예측하는 역할을 할 수 있습니다.\n",
    "\n",
    "MIDI라는 파일 규격을 통해 컴퓨터에서 음악을 작곡하고 재생할 수 있습니다. MIDI 파일은 명령어를 통해 '피아노로 도를 치고 드럼으로 몇 박자를 치는' 등의 악보를 기술할 수 있습니다. 이는 string 형태이므로 LSTM을 적용하기에 좋은 예제가 됩니다.\n",
    "\n",
    "파이썬의 music21 라이브러리를 활용하면 MIDI 데이터를 전처리하고 시각화할 수 있습니다.\n",
    "\n",
    "Original code: https://www.kaggle.com/code/karnikakapoor/music-generation-lstm/data"
   ]
  },
  {
   "cell_type": "markdown",
   "id": "d3e13080",
   "metadata": {
    "id": "8ce3d291"
   },
   "source": [
    "## 2. GPU 사용 설정\n",
    "런타임 -> 런타임 유형 변경 -> 하드웨어 가속기 GPU로 반드시 설정해주세요!"
   ]
  },
  {
   "cell_type": "code",
   "execution_count": 1,
   "id": "eb165eaf",
   "metadata": {
    "colab": {
     "base_uri": "https://localhost:8080/"
    },
    "executionInfo": {
     "elapsed": 1594,
     "status": "ok",
     "timestamp": 1674664951647,
     "user": {
      "displayName": "Seongwon Cho",
      "userId": "03934123190537355550"
     },
     "user_tz": -540
    },
    "id": "beca4804",
    "outputId": "814afdae-8e87-4616-a3d7-08c923cbdb9f"
   },
   "outputs": [
    {
     "name": "stdout",
     "output_type": "stream",
     "text": [
      "GPU 0: NVIDIA GeForce RTX 3090 (UUID: GPU-4075fb2a-8676-6864-644c-210f37c0fad0)\n",
      "GPU 1: NVIDIA GeForce RTX 3090 (UUID: GPU-da19f084-f799-c3d2-2fde-3d611a4f8faf)\n",
      "Tue Jan 31 07:00:56 2023       \n",
      "+-----------------------------------------------------------------------------+\n",
      "| NVIDIA-SMI 515.86.01    Driver Version: 515.86.01    CUDA Version: 11.7     |\n",
      "|-------------------------------+----------------------+----------------------+\n",
      "| GPU  Name        Persistence-M| Bus-Id        Disp.A | Volatile Uncorr. ECC |\n",
      "| Fan  Temp  Perf  Pwr:Usage/Cap|         Memory-Usage | GPU-Util  Compute M. |\n",
      "|                               |                      |               MIG M. |\n",
      "|===============================+======================+======================|\n",
      "|   0  NVIDIA GeForce ...  On   | 00000000:01:00.0 Off |                  N/A |\n",
      "| 38%   29C    P8    21W / 350W |      1MiB / 24576MiB |      0%      Default |\n",
      "|                               |                      |                  N/A |\n",
      "+-------------------------------+----------------------+----------------------+\n",
      "|   1  NVIDIA GeForce ...  On   | 00000000:25:00.0 Off |                  N/A |\n",
      "| 39%   29C    P8    21W / 350W |      1MiB / 24576MiB |      0%      Default |\n",
      "|                               |                      |                  N/A |\n",
      "+-------------------------------+----------------------+----------------------+\n",
      "                                                                               \n",
      "+-----------------------------------------------------------------------------+\n",
      "| Processes:                                                                  |\n",
      "|  GPU   GI   CI        PID   Type   Process name                  GPU Memory |\n",
      "|        ID   ID                                                   Usage      |\n",
      "|=============================================================================|\n",
      "|  No running processes found                                                 |\n",
      "+-----------------------------------------------------------------------------+\n"
     ]
    }
   ],
   "source": [
    "# GPU 확인: GPU 이름과 GPU 메모리 점유율 확인하기\n",
    "!nvidia-smi -L\n",
    "!nvidia-smi"
   ]
  },
  {
   "cell_type": "markdown",
   "id": "e8c5832b",
   "metadata": {
    "id": "0447342e"
   },
   "source": [
    "## 3. 현재 런타임에 데이터 업로드, 압축 풀기\n",
    "구글 드라이브에 마운트하는 대신 현재 런타임에 데이터를 업로드해서 사용하시면 됩니다. 파일은 교육세션 드라이브에 업로드 되어있으니 로컬로 다운받으신 후 업로드하시면 됩니다.\n",
    "1. 파일 -> 세션 저장소의 업로드 버튼 클릭 (구글 드라이브 마운트 버튼 기준 왼쪽에 있습니다.)\n",
    "2. chopin.zip 파일 업로드\n",
    "3. 아래의 리눅스 명령어로 압축 해제"
   ]
  },
  {
   "cell_type": "code",
   "execution_count": 2,
   "id": "8a2beb9e",
   "metadata": {
    "id": "92329044"
   },
   "outputs": [],
   "source": [
    "!unzip -qq 'chopin.zip'"
   ]
  },
  {
   "cell_type": "markdown",
   "id": "2d91025d",
   "metadata": {
    "id": "bc1f85c2"
   },
   "source": [
    "## 4. Dependency 설치\n",
    "1. 설치된 패키지들 업데이트\n",
    "2. lilypond (음악 악보편집) 패키지 설치\n",
    "3. music21 (MIDI 라이브러리) 설치\n",
    "\n",
    "* '!'를 앞에 붙이면 리눅스 명령어를 실행하게 됩니다."
   ]
  },
  {
   "cell_type": "code",
   "execution_count": null,
   "id": "c13d1225",
   "metadata": {
    "id": "e1e654f0"
   },
   "outputs": [
    {
     "name": "stdout",
     "output_type": "stream",
     "text": [
      "Get:1 https://deb.nodesource.com/node_12.x bionic InRelease [4584 B]\n",
      "Get:2 https://developer.download.nvidia.com/compute/cuda/repos/ubuntu1804/x86_64  InRelease [1581 B]\n",
      "Err:2 https://developer.download.nvidia.com/compute/cuda/repos/ubuntu1804/x86_64  InRelease\n",
      "  The following signatures couldn't be verified because the public key is not available: NO_PUBKEY A4B469963BF863CC\n",
      "Ign:3 https://developer.download.nvidia.com/compute/machine-learning/repos/ubuntu1804/x86_64  InRelease\n",
      "Get:4 http://security.ubuntu.com/ubuntu bionic-security InRelease [88.7 kB]    \n",
      "Get:5 https://developer.download.nvidia.com/compute/machine-learning/repos/ubuntu1804/x86_64  Release [564 B]\n",
      "Get:6 https://developer.download.nvidia.com/compute/machine-learning/repos/ubuntu1804/x86_64  Release.gpg [833 B]\n",
      "Get:7 https://deb.nodesource.com/node_12.x bionic/main amd64 Packages [768 B]  \n",
      "Get:8 http://archive.ubuntu.com/ubuntu bionic InRelease [242 kB]               \n",
      "Get:9 https://developer.download.nvidia.com/compute/machine-learning/repos/ubuntu1804/x86_64  Packages [73.8 kB]\n",
      "Get:10 http://security.ubuntu.com/ubuntu bionic-security/restricted amd64 Packages [1389 kB]\n",
      "Get:11 http://archive.ubuntu.com/ubuntu bionic-updates InRelease [88.7 kB]     \n",
      "Get:12 http://security.ubuntu.com/ubuntu bionic-security/multiverse amd64 Packages [22.9 kB]\n",
      "Get:13 http://security.ubuntu.com/ubuntu bionic-security/universe amd64 Packages [1577 kB]\n",
      "Get:14 http://security.ubuntu.com/ubuntu bionic-security/main amd64 Packages [3160 kB]\n",
      "Get:15 http://archive.ubuntu.com/ubuntu bionic-backports InRelease [83.3 kB]   \n",
      "Get:16 http://archive.ubuntu.com/ubuntu bionic/universe amd64 Packages [11.3 MB]\n",
      "Get:17 http://archive.ubuntu.com/ubuntu bionic/multiverse amd64 Packages [186 kB]\n",
      "Get:18 http://archive.ubuntu.com/ubuntu bionic/restricted amd64 Packages [13.5 kB]\n",
      "Get:19 http://archive.ubuntu.com/ubuntu bionic/main amd64 Packages [1344 kB]   \n",
      "Get:20 http://archive.ubuntu.com/ubuntu bionic-updates/multiverse amd64 Packages [30.8 kB]\n",
      "Get:21 http://archive.ubuntu.com/ubuntu bionic-updates/restricted amd64 Packages [1430 kB]\n",
      "Get:22 http://archive.ubuntu.com/ubuntu bionic-updates/main amd64 Packages [3580 kB]\n",
      "Get:23 http://archive.ubuntu.com/ubuntu bionic-updates/universe amd64 Packages [2352 kB]\n",
      "Get:24 http://archive.ubuntu.com/ubuntu bionic-backports/universe amd64 Packages [20.5 kB]\n",
      "Get:25 http://archive.ubuntu.com/ubuntu bionic-backports/main amd64 Packages [64.0 kB]\n",
      "Reading package lists... Done                                                  \n",
      "W: GPG error: https://developer.download.nvidia.com/compute/cuda/repos/ubuntu1804/x86_64  InRelease: The following signatures couldn't be verified because the public key is not available: NO_PUBKEY A4B469963BF863CC\n",
      "E: The repository 'https://developer.download.nvidia.com/compute/cuda/repos/ubuntu1804/x86_64  InRelease' is not signed.\n",
      "N: Updating from such a repository can't be done securely, and is therefore disabled by default.\n",
      "N: See apt-secure(8) manpage for repository creation and user configuration details.\n",
      "W: Target Packages (main/binary-amd64/Packages) is configured multiple times in /etc/apt/sources.list:44 and /etc/apt/sources.list:50\n",
      "W: Target Packages (main/binary-all/Packages) is configured multiple times in /etc/apt/sources.list:44 and /etc/apt/sources.list:50\n",
      "W: Target Packages (main/binary-amd64/Packages) is configured multiple times in /etc/apt/sources.list:44 and /etc/apt/sources.list:50\n",
      "W: Target Packages (main/binary-all/Packages) is configured multiple times in /etc/apt/sources.list:44 and /etc/apt/sources.list:50\n",
      "Reading package lists... Done\n",
      "Building dependency tree       \n",
      "Reading state information... Done\n",
      "The following additional packages will be installed:\n",
      "  fonts-droid-fallback fonts-lmodern fonts-noto-mono ghostscript gsfonts\n",
      "  libauthen-sasl-perl libcups2 libcupsfilters1 libcupsimage2 libdata-dump-perl\n",
      "  libencode-locale-perl libfile-basedir-perl libfile-desktopentry-perl\n",
      "  libfile-listing-perl libfile-mimeinfo-perl libfont-afm-perl libfontenc1\n",
      "  libgs9 libgs9-common libharfbuzz-icu0 libhtml-form-perl libhtml-format-perl\n",
      "  libhtml-parser-perl libhtml-tagset-perl libhtml-tree-perl\n",
      "  libhttp-cookies-perl libhttp-daemon-perl libhttp-date-perl\n",
      "  libhttp-message-perl libhttp-negotiate-perl libijs-0.35 libio-html-perl\n",
      "  libio-socket-ssl-perl libipc-system-simple-perl libjbig2dec0 libkpathsea6\n",
      "  libltdl7 liblwp-mediatypes-perl liblwp-protocol-https-perl libmailtools-perl\n",
      "  libnet-dbus-perl libnet-http-perl libnet-smtp-ssl-perl libnet-ssleay-perl\n",
      "  libnspr4 libnss3 libpaper-utils libpaper1 libpoppler73 libpotrace0\n",
      "  libptexenc1 libsynctex1 libtexlua52 libtexluajit2 libtext-iconv-perl\n",
      "  libtext-unidecode-perl libtie-ixhash-perl libtimedate-perl libtry-tiny-perl\n",
      "  liburi-perl libwww-perl libwww-robotrules-perl libx11-protocol-perl libxaw7\n",
      "  libxcb-shape0 libxml-libxml-perl libxml-namespacesupport-perl\n",
      "  libxml-parser-perl libxml-sax-base-perl libxml-sax-expat-perl\n",
      "  libxml-sax-perl libxml-twig-perl libxml-xpathengine-perl libxmu6 libxmuu1\n",
      "  libxpm4 libxt6 libxtst6 libxv1 libxxf86dga1 libzzip-0-13 lilypond-data\n",
      "  lmodern netbase perl-openssl-defaults poppler-data t1utils tex-common\n",
      "  texinfo texlive-base texlive-binaries texlive-latex-base x11-utils\n",
      "  x11-xserver-utils xdg-utils\n",
      "Suggested packages:\n",
      "  fonts-noto ghostscript-x libdigest-hmac-perl libgssapi-perl cups-common\n",
      "  libcrypt-ssleay-perl libauthen-ntlm-perl libunicode-map8-perl\n",
      "  libunicode-string-perl xml-twig-tools lilypond-doc poppler-utils\n",
      "  fonts-japanese-mincho | fonts-ipafont-mincho fonts-japanese-gothic\n",
      "  | fonts-ipafont-gothic fonts-arphic-ukai fonts-arphic-uming fonts-nanum\n",
      "  debhelper texlive-generic-recommended texinfo-doc-nonfree\n",
      "  texlive-fonts-recommended perl-tk xpdf-reader | pdf-viewer\n",
      "  texlive-latex-base-doc mesa-utils nickle cairo-5c xorg-docs-core\n",
      "The following NEW packages will be installed:\n",
      "  fonts-droid-fallback fonts-lmodern fonts-noto-mono ghostscript gsfonts\n",
      "  libauthen-sasl-perl libcupsfilters1 libcupsimage2 libdata-dump-perl\n",
      "  libencode-locale-perl libfile-basedir-perl libfile-desktopentry-perl\n",
      "  libfile-listing-perl libfile-mimeinfo-perl libfont-afm-perl libfontenc1\n",
      "  libgs9 libgs9-common libharfbuzz-icu0 libhtml-form-perl libhtml-format-perl\n",
      "  libhtml-parser-perl libhtml-tagset-perl libhtml-tree-perl\n",
      "  libhttp-cookies-perl libhttp-daemon-perl libhttp-date-perl\n",
      "  libhttp-message-perl libhttp-negotiate-perl libijs-0.35 libio-html-perl\n",
      "  libio-socket-ssl-perl libipc-system-simple-perl libjbig2dec0 libkpathsea6\n",
      "  libltdl7 liblwp-mediatypes-perl liblwp-protocol-https-perl libmailtools-perl\n",
      "  libnet-dbus-perl libnet-http-perl libnet-smtp-ssl-perl libnet-ssleay-perl\n",
      "  libnspr4 libnss3 libpaper-utils libpaper1 libpoppler73 libpotrace0\n",
      "  libptexenc1 libsynctex1 libtexlua52 libtexluajit2 libtext-iconv-perl\n",
      "  libtext-unidecode-perl libtie-ixhash-perl libtimedate-perl libtry-tiny-perl\n",
      "  liburi-perl libwww-perl libwww-robotrules-perl libx11-protocol-perl libxaw7\n",
      "  libxcb-shape0 libxml-libxml-perl libxml-namespacesupport-perl\n",
      "  libxml-parser-perl libxml-sax-base-perl libxml-sax-expat-perl\n",
      "  libxml-sax-perl libxml-twig-perl libxml-xpathengine-perl libxmu6 libxmuu1\n",
      "  libxpm4 libxt6 libxtst6 libxv1 libxxf86dga1 libzzip-0-13 lilypond\n",
      "  lilypond-data lmodern netbase perl-openssl-defaults poppler-data t1utils\n",
      "  tex-common texinfo texlive-base texlive-binaries texlive-latex-base\n",
      "  x11-utils x11-xserver-utils xdg-utils\n",
      "The following packages will be upgraded:\n",
      "  libcups2\n",
      "1 upgraded, 95 newly installed, 0 to remove and 141 not upgraded.\n",
      "Need to get 67.3 MB of archives.\n",
      "After this operation, 240 MB of additional disk space will be used.\n",
      "Get:1 http://archive.ubuntu.com/ubuntu bionic/main amd64 fonts-droid-fallback all 1:6.0.1r16-1.1 [1805 kB]\n",
      "Get:2 http://archive.ubuntu.com/ubuntu bionic/main amd64 libxxf86dga1 amd64 2:1.1.4-1 [13.7 kB]\n",
      "Get:3 http://archive.ubuntu.com/ubuntu bionic/main amd64 poppler-data all 0.4.8-2 [1479 kB]\n",
      "Get:4 http://archive.ubuntu.com/ubuntu bionic/main amd64 tex-common all 6.09 [33.0 kB]\n",
      "Get:5 http://archive.ubuntu.com/ubuntu bionic/main amd64 libtext-iconv-perl amd64 1.7-5build6 [13.0 kB]\n",
      "Get:6 http://archive.ubuntu.com/ubuntu bionic/main amd64 netbase all 5.4 [12.7 kB]\n",
      "Get:7 http://archive.ubuntu.com/ubuntu bionic/main amd64 libxmuu1 amd64 2:1.1.2-2 [9674 B]\n",
      "Get:8 http://archive.ubuntu.com/ubuntu bionic/main amd64 fonts-lmodern all 2.004.5-3 [4551 kB]\n",
      "Get:9 http://archive.ubuntu.com/ubuntu bionic/main amd64 fonts-noto-mono all 20171026-2 [75.5 kB]\n",
      "Get:10 http://archive.ubuntu.com/ubuntu bionic-updates/main amd64 libcups2 amd64 2.2.7-1ubuntu2.9 [211 kB]\n",
      "Get:11 http://archive.ubuntu.com/ubuntu bionic-updates/main amd64 libcupsimage2 amd64 2.2.7-1ubuntu2.9 [18.6 kB]\n",
      "Get:12 http://archive.ubuntu.com/ubuntu bionic/main amd64 libijs-0.35 amd64 0.35-13 [15.5 kB]\n",
      "Get:13 http://archive.ubuntu.com/ubuntu bionic/main amd64 libjbig2dec0 amd64 0.13-6 [55.9 kB]\n",
      "Get:14 http://archive.ubuntu.com/ubuntu bionic/main amd64 libpaper1 amd64 1.1.24+nmu5ubuntu1 [13.6 kB]\n",
      "Get:15 http://archive.ubuntu.com/ubuntu bionic-updates/main amd64 libgs9-common all 9.26~dfsg+0-0ubuntu0.18.04.17 [5092 kB]\n",
      "Get:16 http://archive.ubuntu.com/ubuntu bionic-updates/main amd64 libgs9 amd64 9.26~dfsg+0-0ubuntu0.18.04.17 [2267 kB]\n",
      "Get:17 http://archive.ubuntu.com/ubuntu bionic-updates/main amd64 ghostscript amd64 9.26~dfsg+0-0ubuntu0.18.04.17 [51.3 kB]\n",
      "Get:18 http://archive.ubuntu.com/ubuntu bionic/main amd64 gsfonts all 1:8.11+urwcyr1.0.7~pre44-4.4 [3120 kB]\n",
      "Get:19 http://archive.ubuntu.com/ubuntu bionic-updates/main amd64 libcupsfilters1 amd64 1.20.2-0ubuntu3.1 [108 kB]\n",
      "Get:20 http://archive.ubuntu.com/ubuntu bionic/main amd64 libdata-dump-perl all 1.23-1 [27.0 kB]\n",
      "Get:21 http://archive.ubuntu.com/ubuntu bionic/main amd64 libencode-locale-perl all 1.05-1 [12.3 kB]\n",
      "Get:22 http://archive.ubuntu.com/ubuntu bionic/main amd64 libipc-system-simple-perl all 1.25-4 [22.5 kB]\n",
      "Get:23 http://archive.ubuntu.com/ubuntu bionic/main amd64 libfile-basedir-perl all 0.07-1 [16.9 kB]\n",
      "Get:24 http://archive.ubuntu.com/ubuntu bionic/main amd64 liburi-perl all 1.73-1 [77.2 kB]\n",
      "Get:25 http://archive.ubuntu.com/ubuntu bionic/main amd64 libfile-desktopentry-perl all 0.22-1 [18.2 kB]\n",
      "Get:26 http://archive.ubuntu.com/ubuntu bionic/main amd64 libtimedate-perl all 2.3000-2 [37.5 kB]\n",
      "Get:27 http://archive.ubuntu.com/ubuntu bionic/main amd64 libhttp-date-perl all 6.02-1 [10.4 kB]\n",
      "Get:28 http://archive.ubuntu.com/ubuntu bionic/main amd64 libfile-listing-perl all 6.04-1 [9774 B]\n",
      "Get:29 http://archive.ubuntu.com/ubuntu bionic/main amd64 libfile-mimeinfo-perl all 0.28-1 [41.4 kB]\n",
      "Get:30 http://archive.ubuntu.com/ubuntu bionic/main amd64 libfont-afm-perl all 1.20-2 [13.2 kB]\n",
      "Get:31 http://archive.ubuntu.com/ubuntu bionic/main amd64 libfontenc1 amd64 1:1.1.3-1 [13.9 kB]\n",
      "Get:32 http://archive.ubuntu.com/ubuntu bionic/main amd64 libharfbuzz-icu0 amd64 1.7.2-1ubuntu1 [5604 B]\n",
      "Get:33 http://archive.ubuntu.com/ubuntu bionic/main amd64 libhtml-tagset-perl all 3.20-3 [12.1 kB]\n",
      "Get:34 http://archive.ubuntu.com/ubuntu bionic/main amd64 libhtml-parser-perl amd64 3.72-3build1 [85.9 kB]\n",
      "Get:35 http://archive.ubuntu.com/ubuntu bionic/main amd64 libio-html-perl all 1.001-1 [14.9 kB]\n",
      "Get:36 http://archive.ubuntu.com/ubuntu bionic/main amd64 liblwp-mediatypes-perl all 6.02-1 [21.7 kB]\n",
      "Get:37 http://archive.ubuntu.com/ubuntu bionic/main amd64 libhttp-message-perl all 6.14-1 [72.1 kB]\n",
      "Get:38 http://archive.ubuntu.com/ubuntu bionic/main amd64 libhtml-form-perl all 6.03-1 [23.5 kB]\n",
      "Get:39 http://archive.ubuntu.com/ubuntu bionic/main amd64 libhtml-tree-perl all 5.07-1 [200 kB]\n",
      "Get:40 http://archive.ubuntu.com/ubuntu bionic/main amd64 libhtml-format-perl all 2.12-1 [41.3 kB]\n",
      "Get:41 http://archive.ubuntu.com/ubuntu bionic/main amd64 libhttp-cookies-perl all 6.04-1 [17.2 kB]\n",
      "Get:42 http://archive.ubuntu.com/ubuntu bionic-updates/main amd64 libhttp-daemon-perl all 6.01-1ubuntu0.1 [15.9 kB]\n",
      "Get:43 http://archive.ubuntu.com/ubuntu bionic/main amd64 libhttp-negotiate-perl all 6.00-2 [13.4 kB]\n",
      "Get:44 http://archive.ubuntu.com/ubuntu bionic/main amd64 perl-openssl-defaults amd64 3build1 [7012 B]\n",
      "Get:45 http://archive.ubuntu.com/ubuntu bionic-updates/main amd64 libnet-ssleay-perl amd64 1.84-1ubuntu0.2 [283 kB]\n",
      "Get:46 http://archive.ubuntu.com/ubuntu bionic-updates/main amd64 libio-socket-ssl-perl all 2.060-3~ubuntu18.04.1 [173 kB]\n",
      "Get:47 http://archive.ubuntu.com/ubuntu bionic-updates/main amd64 libkpathsea6 amd64 2017.20170613.44572-8ubuntu0.1 [54.9 kB]\n",
      "Get:48 http://archive.ubuntu.com/ubuntu bionic/main amd64 libltdl7 amd64 2.4.6-2 [38.8 kB]\n",
      "Get:49 http://archive.ubuntu.com/ubuntu bionic/main amd64 libnet-http-perl all 6.17-1 [22.7 kB]\n",
      "Get:50 http://archive.ubuntu.com/ubuntu bionic/main amd64 libtry-tiny-perl all 0.30-1 [20.5 kB]\n",
      "Get:51 http://archive.ubuntu.com/ubuntu bionic/main amd64 libwww-robotrules-perl all 6.01-1 [14.1 kB]\n",
      "Get:52 http://archive.ubuntu.com/ubuntu bionic-updates/main amd64 libwww-perl all 6.31-1ubuntu0.1 [137 kB]\n",
      "Get:53 http://archive.ubuntu.com/ubuntu bionic/main amd64 liblwp-protocol-https-perl all 6.07-2 [8284 B]\n",
      "Get:54 http://archive.ubuntu.com/ubuntu bionic/main amd64 libnet-smtp-ssl-perl all 1.04-1 [5948 B]\n",
      "Get:55 http://archive.ubuntu.com/ubuntu bionic/main amd64 libmailtools-perl all 2.18-1 [74.0 kB]\n",
      "Get:56 http://archive.ubuntu.com/ubuntu bionic/main amd64 libxml-parser-perl amd64 2.44-2build3 [199 kB]\n",
      "Get:57 http://archive.ubuntu.com/ubuntu bionic/main amd64 libxml-twig-perl all 1:3.50-1 [156 kB]\n",
      "Get:58 http://archive.ubuntu.com/ubuntu bionic/main amd64 libnet-dbus-perl amd64 1.1.0-4build2 [176 kB]\n",
      "Get:59 http://archive.ubuntu.com/ubuntu bionic/main amd64 libnspr4 amd64 2:4.18-1ubuntu1 [112 kB]\n",
      "Get:60 http://archive.ubuntu.com/ubuntu bionic-updates/main amd64 libnss3 amd64 2:3.35-2ubuntu2.15 [1220 kB]\n",
      "Get:61 http://archive.ubuntu.com/ubuntu bionic/main amd64 libpaper-utils amd64 1.1.24+nmu5ubuntu1 [8170 B]\n",
      "Get:62 http://archive.ubuntu.com/ubuntu bionic-updates/main amd64 libpoppler73 amd64 0.62.0-2ubuntu2.14 [800 kB]\n",
      "Get:63 http://archive.ubuntu.com/ubuntu bionic/main amd64 libpotrace0 amd64 1.14-2 [17.4 kB]\n",
      "Get:64 http://archive.ubuntu.com/ubuntu bionic-updates/main amd64 libptexenc1 amd64 2017.20170613.44572-8ubuntu0.1 [34.5 kB]\n",
      "Get:65 http://archive.ubuntu.com/ubuntu bionic-updates/main amd64 libsynctex1 amd64 2017.20170613.44572-8ubuntu0.1 [41.4 kB]\n",
      "Get:66 http://archive.ubuntu.com/ubuntu bionic-updates/main amd64 libtexlua52 amd64 2017.20170613.44572-8ubuntu0.1 [91.2 kB]\n",
      "Get:67 http://archive.ubuntu.com/ubuntu bionic-updates/main amd64 libtexluajit2 amd64 2017.20170613.44572-8ubuntu0.1 [230 kB]\n",
      "Get:68 http://archive.ubuntu.com/ubuntu bionic/universe amd64 libtext-unidecode-perl all 1.30-1 [99.0 kB]\n",
      "Get:69 http://archive.ubuntu.com/ubuntu bionic/main amd64 libtie-ixhash-perl all 1.23-2 [11.2 kB]\n",
      "Get:70 http://archive.ubuntu.com/ubuntu bionic/main amd64 libx11-protocol-perl all 0.56-7 [149 kB]\n",
      "Get:71 http://archive.ubuntu.com/ubuntu bionic/main amd64 libxt6 amd64 1:1.1.5-1 [160 kB]\n",
      "Get:72 http://archive.ubuntu.com/ubuntu bionic/main amd64 libxmu6 amd64 2:1.1.2-2 [46.0 kB]\n",
      "Get:73 http://archive.ubuntu.com/ubuntu bionic-updates/main amd64 libxpm4 amd64 1:3.5.12-1ubuntu0.18.04.2 [34.8 kB]\n",
      "Get:74 http://archive.ubuntu.com/ubuntu bionic/main amd64 libxaw7 amd64 2:1.0.13-1 [173 kB]\n",
      "Get:75 http://archive.ubuntu.com/ubuntu bionic-updates/main amd64 libxcb-shape0 amd64 1.13-2~ubuntu18.04 [5972 B]\n",
      "Get:76 http://archive.ubuntu.com/ubuntu bionic/main amd64 libxml-namespacesupport-perl all 1.12-1 [13.2 kB]\n",
      "Get:77 http://archive.ubuntu.com/ubuntu bionic/main amd64 libxml-sax-base-perl all 1.09-1 [18.8 kB]\n",
      "Get:78 http://archive.ubuntu.com/ubuntu bionic/main amd64 libxml-sax-perl all 0.99+dfsg-2ubuntu1 [64.6 kB]\n",
      "Get:79 http://archive.ubuntu.com/ubuntu bionic/main amd64 libxml-libxml-perl amd64 2.0128+dfsg-5 [316 kB]\n",
      "Get:80 http://archive.ubuntu.com/ubuntu bionic/main amd64 libxml-sax-expat-perl all 0.40-2 [11.5 kB]\n",
      "Get:81 http://archive.ubuntu.com/ubuntu bionic/main amd64 libxml-xpathengine-perl all 0.14-1 [31.8 kB]\n",
      "Get:82 http://archive.ubuntu.com/ubuntu bionic/main amd64 libxtst6 amd64 2:1.2.3-1 [12.8 kB]\n",
      "Get:83 http://archive.ubuntu.com/ubuntu bionic/main amd64 libxv1 amd64 2:1.0.11-1 [10.7 kB]\n",
      "Get:84 http://archive.ubuntu.com/ubuntu bionic-updates/main amd64 libzzip-0-13 amd64 0.13.62-3.1ubuntu0.18.04.1 [26.0 kB]\n",
      "Get:85 http://archive.ubuntu.com/ubuntu bionic/universe amd64 texinfo amd64 6.5.0.dfsg.1-2 [752 kB]\n",
      "Get:86 http://archive.ubuntu.com/ubuntu bionic/main amd64 t1utils amd64 1.41-2 [56.0 kB]\n",
      "Get:87 http://archive.ubuntu.com/ubuntu bionic-updates/main amd64 texlive-binaries amd64 2017.20170613.44572-8ubuntu0.1 [8179 kB]\n",
      "Get:88 http://archive.ubuntu.com/ubuntu bionic/universe amd64 lilypond-data all 2.18.2-12build1 [1799 kB]\n",
      "Get:89 http://archive.ubuntu.com/ubuntu bionic/universe amd64 lilypond amd64 2.18.2-12build1 [1928 kB]\n",
      "Get:90 http://archive.ubuntu.com/ubuntu bionic/main amd64 lmodern all 2.004.5-3 [9631 kB]\n",
      "Get:91 http://archive.ubuntu.com/ubuntu bionic-updates/main amd64 xdg-utils all 1.1.2-1ubuntu2.5 [60.4 kB]\n",
      "Get:92 http://archive.ubuntu.com/ubuntu bionic/main amd64 texlive-base all 2017.20180305-1 [18.7 MB]\n",
      "Get:93 http://archive.ubuntu.com/ubuntu bionic/main amd64 texlive-latex-base all 2017.20180305-1 [951 kB]\n",
      "Get:94 http://archive.ubuntu.com/ubuntu bionic/main amd64 x11-utils amd64 7.7+3build1 [196 kB]\n",
      "Get:95 http://archive.ubuntu.com/ubuntu bionic/main amd64 x11-xserver-utils amd64 7.7+7build1 [159 kB]\n",
      "Get:96 http://archive.ubuntu.com/ubuntu bionic/main amd64 libauthen-sasl-perl all 2.1600-1 [48.7 kB]\n",
      "Fetched 67.3 MB in 13s (5017 kB/s)                                             \n",
      "debconf: unable to initialize frontend: Dialog\n",
      "debconf: (No usable dialog-like program is installed, so the dialog based frontend cannot be used. at /usr/share/perl5/Debconf/FrontEnd/Dialog.pm line 76, <> line 96.)\n",
      "debconf: falling back to frontend: Readline\n",
      "W: Target Packages (main/binary-amd64/Packages) is configured multiple times in /etc/apt/sources.list:44 and /etc/apt/sources.list:50\n",
      "W: Target Packages (main/binary-all/Packages) is configured multiple times in /etc/apt/sources.list:44 and /etc/apt/sources.list:50\n",
      "Extracting templates from packages: 31%W: Target Packages (main/binary-amd64/Packages) is configured multiple times in /etc/apt/sources.list:44 and /etc/apt/sources.list:50\n",
      "W: Target Packages (main/binary-all/Packages) is configured multiple times in /etc/apt/sources.list:44 and /etc/apt/sources.list:50\n",
      "Extracting templates from packages: 62%W: Target Packages (main/binary-amd64/Packages) is configured multiple times in /etc/apt/sources.list:44 and /etc/apt/sources.list:50\n",
      "W: Target Packages (main/binary-all/Packages) is configured multiple times in /etc/apt/sources.list:44 and /etc/apt/sources.list:50\n",
      "Extracting templates from packages: 93%W: Target Packages (main/binary-amd64/Packages) is configured multiple times in /etc/apt/sources.list:44 and /etc/apt/sources.list:50\n",
      "W: Target Packages (main/binary-all/Packages) is configured multiple times in /etc/apt/sources.list:44 and /etc/apt/sources.list:50\n",
      "Extracting templates from packages: 100%\n",
      "Preconfiguring packages ...\n",
      "Selecting previously unselected package fonts-droid-fallback.\n",
      "(Reading database ... 41498 files and directories currently installed.)\n",
      "Preparing to unpack .../00-fonts-droid-fallback_1%3a6.0.1r16-1.1_all.deb ...\n",
      "Unpacking fonts-droid-fallback (1:6.0.1r16-1.1) ...\n",
      "Selecting previously unselected package libxxf86dga1:amd64.\n",
      "Preparing to unpack .../01-libxxf86dga1_2%3a1.1.4-1_amd64.deb ...\n",
      "Unpacking libxxf86dga1:amd64 (2:1.1.4-1) ...\n",
      "Selecting previously unselected package poppler-data.\n",
      "Preparing to unpack .../02-poppler-data_0.4.8-2_all.deb ...\n",
      "Unpacking poppler-data (0.4.8-2) ...\n",
      "Selecting previously unselected package tex-common.\n",
      "Preparing to unpack .../03-tex-common_6.09_all.deb ...\n",
      "Unpacking tex-common (6.09) ...\n",
      "Selecting previously unselected package libtext-iconv-perl.\n",
      "Preparing to unpack .../04-libtext-iconv-perl_1.7-5build6_amd64.deb ...\n",
      "Unpacking libtext-iconv-perl (1.7-5build6) ...\n",
      "Selecting previously unselected package netbase.\n",
      "Preparing to unpack .../05-netbase_5.4_all.deb ...\n",
      "Unpacking netbase (5.4) ...\n",
      "Selecting previously unselected package libxmuu1:amd64.\n",
      "Preparing to unpack .../06-libxmuu1_2%3a1.1.2-2_amd64.deb ...\n",
      "Unpacking libxmuu1:amd64 (2:1.1.2-2) ...\n",
      "Selecting previously unselected package fonts-lmodern.\n",
      "Preparing to unpack .../07-fonts-lmodern_2.004.5-3_all.deb ...\n",
      "Unpacking fonts-lmodern (2.004.5-3) ...\n",
      "Selecting previously unselected package fonts-noto-mono.\n",
      "Preparing to unpack .../08-fonts-noto-mono_20171026-2_all.deb ...\n",
      "Unpacking fonts-noto-mono (20171026-2) ...\n",
      "Preparing to unpack .../09-libcups2_2.2.7-1ubuntu2.9_amd64.deb ...\n",
      "Unpacking libcups2:amd64 (2.2.7-1ubuntu2.9) over (2.2.7-1ubuntu2.8) ...\n",
      "Selecting previously unselected package libcupsimage2:amd64.\n",
      "Preparing to unpack .../10-libcupsimage2_2.2.7-1ubuntu2.9_amd64.deb ...\n",
      "Unpacking libcupsimage2:amd64 (2.2.7-1ubuntu2.9) ...\n",
      "Selecting previously unselected package libijs-0.35:amd64.\n",
      "Preparing to unpack .../11-libijs-0.35_0.35-13_amd64.deb ...\n",
      "Unpacking libijs-0.35:amd64 (0.35-13) ...\n",
      "Selecting previously unselected package libjbig2dec0:amd64.\n",
      "Preparing to unpack .../12-libjbig2dec0_0.13-6_amd64.deb ...\n",
      "Unpacking libjbig2dec0:amd64 (0.13-6) ...\n",
      "Selecting previously unselected package libpaper1:amd64.\n",
      "Preparing to unpack .../13-libpaper1_1.1.24+nmu5ubuntu1_amd64.deb ...\n",
      "Unpacking libpaper1:amd64 (1.1.24+nmu5ubuntu1) ...\n",
      "Selecting previously unselected package libgs9-common.\n",
      "Preparing to unpack .../14-libgs9-common_9.26~dfsg+0-0ubuntu0.18.04.17_all.deb ...\n",
      "Unpacking libgs9-common (9.26~dfsg+0-0ubuntu0.18.04.17) ...\n",
      "Selecting previously unselected package libgs9:amd64.\n",
      "Preparing to unpack .../15-libgs9_9.26~dfsg+0-0ubuntu0.18.04.17_amd64.deb ...\n",
      "Unpacking libgs9:amd64 (9.26~dfsg+0-0ubuntu0.18.04.17) ...\n",
      "Selecting previously unselected package ghostscript.\n",
      "Preparing to unpack .../16-ghostscript_9.26~dfsg+0-0ubuntu0.18.04.17_amd64.deb ...\n",
      "Unpacking ghostscript (9.26~dfsg+0-0ubuntu0.18.04.17) ...\n",
      "Selecting previously unselected package gsfonts.\n",
      "Preparing to unpack .../17-gsfonts_1%3a8.11+urwcyr1.0.7~pre44-4.4_all.deb ...\n",
      "Unpacking gsfonts (1:8.11+urwcyr1.0.7~pre44-4.4) ...\n",
      "Selecting previously unselected package libcupsfilters1:amd64.\n",
      "Preparing to unpack .../18-libcupsfilters1_1.20.2-0ubuntu3.1_amd64.deb ...\n",
      "Unpacking libcupsfilters1:amd64 (1.20.2-0ubuntu3.1) ...\n",
      "Selecting previously unselected package libdata-dump-perl.\n",
      "Preparing to unpack .../19-libdata-dump-perl_1.23-1_all.deb ...\n",
      "Unpacking libdata-dump-perl (1.23-1) ...\n",
      "Selecting previously unselected package libencode-locale-perl.\n",
      "Preparing to unpack .../20-libencode-locale-perl_1.05-1_all.deb ...\n",
      "Unpacking libencode-locale-perl (1.05-1) ...\n",
      "Selecting previously unselected package libipc-system-simple-perl.\n",
      "Preparing to unpack .../21-libipc-system-simple-perl_1.25-4_all.deb ...\n",
      "Unpacking libipc-system-simple-perl (1.25-4) ...\n",
      "Selecting previously unselected package libfile-basedir-perl.\n",
      "Preparing to unpack .../22-libfile-basedir-perl_0.07-1_all.deb ...\n",
      "Unpacking libfile-basedir-perl (0.07-1) ...\n",
      "Selecting previously unselected package liburi-perl.\n",
      "Preparing to unpack .../23-liburi-perl_1.73-1_all.deb ...\n",
      "Unpacking liburi-perl (1.73-1) ...\n",
      "Selecting previously unselected package libfile-desktopentry-perl.\n",
      "Preparing to unpack .../24-libfile-desktopentry-perl_0.22-1_all.deb ...\n",
      "Unpacking libfile-desktopentry-perl (0.22-1) ...\n",
      "Selecting previously unselected package libtimedate-perl.\n",
      "Preparing to unpack .../25-libtimedate-perl_2.3000-2_all.deb ...\n",
      "Unpacking libtimedate-perl (2.3000-2) ...\n",
      "Selecting previously unselected package libhttp-date-perl.\n",
      "Preparing to unpack .../26-libhttp-date-perl_6.02-1_all.deb ...\n",
      "Unpacking libhttp-date-perl (6.02-1) ...\n",
      "Selecting previously unselected package libfile-listing-perl.\n",
      "Preparing to unpack .../27-libfile-listing-perl_6.04-1_all.deb ...\n",
      "Unpacking libfile-listing-perl (6.04-1) ...\n",
      "Selecting previously unselected package libfile-mimeinfo-perl.\n",
      "Preparing to unpack .../28-libfile-mimeinfo-perl_0.28-1_all.deb ...\n",
      "Unpacking libfile-mimeinfo-perl (0.28-1) ...\n",
      "Selecting previously unselected package libfont-afm-perl.\n",
      "Preparing to unpack .../29-libfont-afm-perl_1.20-2_all.deb ...\n",
      "Unpacking libfont-afm-perl (1.20-2) ...\n",
      "Selecting previously unselected package libfontenc1:amd64.\n",
      "Preparing to unpack .../30-libfontenc1_1%3a1.1.3-1_amd64.deb ...\n",
      "Unpacking libfontenc1:amd64 (1:1.1.3-1) ...\n",
      "Selecting previously unselected package libharfbuzz-icu0:amd64.\n",
      "Preparing to unpack .../31-libharfbuzz-icu0_1.7.2-1ubuntu1_amd64.deb ...\n",
      "Unpacking libharfbuzz-icu0:amd64 (1.7.2-1ubuntu1) ...\n",
      "Selecting previously unselected package libhtml-tagset-perl.\n",
      "Preparing to unpack .../32-libhtml-tagset-perl_3.20-3_all.deb ...\n",
      "Unpacking libhtml-tagset-perl (3.20-3) ...\n",
      "Selecting previously unselected package libhtml-parser-perl.\n",
      "Preparing to unpack .../33-libhtml-parser-perl_3.72-3build1_amd64.deb ...\n",
      "Unpacking libhtml-parser-perl (3.72-3build1) ...\n",
      "Selecting previously unselected package libio-html-perl.\n",
      "Preparing to unpack .../34-libio-html-perl_1.001-1_all.deb ...\n",
      "Unpacking libio-html-perl (1.001-1) ...\n",
      "Selecting previously unselected package liblwp-mediatypes-perl.\n",
      "Preparing to unpack .../35-liblwp-mediatypes-perl_6.02-1_all.deb ...\n",
      "Unpacking liblwp-mediatypes-perl (6.02-1) ...\n",
      "Selecting previously unselected package libhttp-message-perl.\n",
      "Preparing to unpack .../36-libhttp-message-perl_6.14-1_all.deb ...\n",
      "Unpacking libhttp-message-perl (6.14-1) ...\n",
      "Selecting previously unselected package libhtml-form-perl.\n",
      "Preparing to unpack .../37-libhtml-form-perl_6.03-1_all.deb ...\n",
      "Unpacking libhtml-form-perl (6.03-1) ...\n",
      "Selecting previously unselected package libhtml-tree-perl.\n",
      "Preparing to unpack .../38-libhtml-tree-perl_5.07-1_all.deb ...\n",
      "Unpacking libhtml-tree-perl (5.07-1) ...\n",
      "Selecting previously unselected package libhtml-format-perl.\n",
      "Preparing to unpack .../39-libhtml-format-perl_2.12-1_all.deb ...\n",
      "Unpacking libhtml-format-perl (2.12-1) ...\n",
      "Selecting previously unselected package libhttp-cookies-perl.\n",
      "Preparing to unpack .../40-libhttp-cookies-perl_6.04-1_all.deb ...\n",
      "Unpacking libhttp-cookies-perl (6.04-1) ...\n",
      "Selecting previously unselected package libhttp-daemon-perl.\n",
      "Preparing to unpack .../41-libhttp-daemon-perl_6.01-1ubuntu0.1_all.deb ...\n",
      "Unpacking libhttp-daemon-perl (6.01-1ubuntu0.1) ...\n",
      "Selecting previously unselected package libhttp-negotiate-perl.\n",
      "Preparing to unpack .../42-libhttp-negotiate-perl_6.00-2_all.deb ...\n",
      "Unpacking libhttp-negotiate-perl (6.00-2) ...\n",
      "Selecting previously unselected package perl-openssl-defaults:amd64.\n",
      "Preparing to unpack .../43-perl-openssl-defaults_3build1_amd64.deb ...\n",
      "Unpacking perl-openssl-defaults:amd64 (3build1) ...\n",
      "Selecting previously unselected package libnet-ssleay-perl.\n",
      "Preparing to unpack .../44-libnet-ssleay-perl_1.84-1ubuntu0.2_amd64.deb ...\n",
      "Unpacking libnet-ssleay-perl (1.84-1ubuntu0.2) ...\n",
      "Selecting previously unselected package libio-socket-ssl-perl.\n",
      "Preparing to unpack .../45-libio-socket-ssl-perl_2.060-3~ubuntu18.04.1_all.deb ...\n",
      "Unpacking libio-socket-ssl-perl (2.060-3~ubuntu18.04.1) ...\n",
      "Selecting previously unselected package libkpathsea6:amd64.\n",
      "Preparing to unpack .../46-libkpathsea6_2017.20170613.44572-8ubuntu0.1_amd64.deb ...\n",
      "Unpacking libkpathsea6:amd64 (2017.20170613.44572-8ubuntu0.1) ...\n",
      "Selecting previously unselected package libltdl7:amd64.\n",
      "Preparing to unpack .../47-libltdl7_2.4.6-2_amd64.deb ...\n",
      "Unpacking libltdl7:amd64 (2.4.6-2) ...\n",
      "Selecting previously unselected package libnet-http-perl.\n",
      "Preparing to unpack .../48-libnet-http-perl_6.17-1_all.deb ...\n",
      "Unpacking libnet-http-perl (6.17-1) ...\n",
      "Selecting previously unselected package libtry-tiny-perl.\n",
      "Preparing to unpack .../49-libtry-tiny-perl_0.30-1_all.deb ...\n",
      "Unpacking libtry-tiny-perl (0.30-1) ...\n",
      "Selecting previously unselected package libwww-robotrules-perl.\n",
      "Preparing to unpack .../50-libwww-robotrules-perl_6.01-1_all.deb ...\n",
      "Unpacking libwww-robotrules-perl (6.01-1) ...\n",
      "Selecting previously unselected package libwww-perl.\n",
      "Preparing to unpack .../51-libwww-perl_6.31-1ubuntu0.1_all.deb ...\n",
      "Unpacking libwww-perl (6.31-1ubuntu0.1) ...\n",
      "Selecting previously unselected package liblwp-protocol-https-perl.\n",
      "Preparing to unpack .../52-liblwp-protocol-https-perl_6.07-2_all.deb ...\n",
      "Unpacking liblwp-protocol-https-perl (6.07-2) ...\n",
      "Selecting previously unselected package libnet-smtp-ssl-perl.\n",
      "Preparing to unpack .../53-libnet-smtp-ssl-perl_1.04-1_all.deb ...\n",
      "Unpacking libnet-smtp-ssl-perl (1.04-1) ...\n",
      "Selecting previously unselected package libmailtools-perl.\n",
      "Preparing to unpack .../54-libmailtools-perl_2.18-1_all.deb ...\n",
      "Unpacking libmailtools-perl (2.18-1) ...\n",
      "Selecting previously unselected package libxml-parser-perl.\n",
      "Preparing to unpack .../55-libxml-parser-perl_2.44-2build3_amd64.deb ...\n",
      "Unpacking libxml-parser-perl (2.44-2build3) ...\n",
      "Selecting previously unselected package libxml-twig-perl.\n",
      "Preparing to unpack .../56-libxml-twig-perl_1%3a3.50-1_all.deb ...\n",
      "Unpacking libxml-twig-perl (1:3.50-1) ...\n",
      "Selecting previously unselected package libnet-dbus-perl.\n",
      "Preparing to unpack .../57-libnet-dbus-perl_1.1.0-4build2_amd64.deb ...\n",
      "Unpacking libnet-dbus-perl (1.1.0-4build2) ...\n",
      "Selecting previously unselected package libnspr4:amd64.\n",
      "Preparing to unpack .../58-libnspr4_2%3a4.18-1ubuntu1_amd64.deb ...\n",
      "Unpacking libnspr4:amd64 (2:4.18-1ubuntu1) ...\n",
      "Selecting previously unselected package libnss3:amd64.\n",
      "Preparing to unpack .../59-libnss3_2%3a3.35-2ubuntu2.15_amd64.deb ...\n",
      "Unpacking libnss3:amd64 (2:3.35-2ubuntu2.15) ...\n",
      "Selecting previously unselected package libpaper-utils.\n",
      "Preparing to unpack .../60-libpaper-utils_1.1.24+nmu5ubuntu1_amd64.deb ...\n",
      "Unpacking libpaper-utils (1.1.24+nmu5ubuntu1) ...\n",
      "Selecting previously unselected package libpoppler73:amd64.\n",
      "Preparing to unpack .../61-libpoppler73_0.62.0-2ubuntu2.14_amd64.deb ...\n",
      "Unpacking libpoppler73:amd64 (0.62.0-2ubuntu2.14) ...\n",
      "Selecting previously unselected package libpotrace0.\n",
      "Preparing to unpack .../62-libpotrace0_1.14-2_amd64.deb ...\n",
      "Unpacking libpotrace0 (1.14-2) ...\n",
      "Selecting previously unselected package libptexenc1:amd64.\n",
      "Preparing to unpack .../63-libptexenc1_2017.20170613.44572-8ubuntu0.1_amd64.deb ...\n",
      "Unpacking libptexenc1:amd64 (2017.20170613.44572-8ubuntu0.1) ...\n",
      "Selecting previously unselected package libsynctex1:amd64.\n",
      "Preparing to unpack .../64-libsynctex1_2017.20170613.44572-8ubuntu0.1_amd64.deb ...\n",
      "Unpacking libsynctex1:amd64 (2017.20170613.44572-8ubuntu0.1) ...\n",
      "Selecting previously unselected package libtexlua52:amd64.\n",
      "Preparing to unpack .../65-libtexlua52_2017.20170613.44572-8ubuntu0.1_amd64.deb ...\n",
      "Unpacking libtexlua52:amd64 (2017.20170613.44572-8ubuntu0.1) ...\n",
      "Selecting previously unselected package libtexluajit2:amd64.\n",
      "Preparing to unpack .../66-libtexluajit2_2017.20170613.44572-8ubuntu0.1_amd64.deb ...\n",
      "Unpacking libtexluajit2:amd64 (2017.20170613.44572-8ubuntu0.1) ...\n",
      "Selecting previously unselected package libtext-unidecode-perl.\n",
      "Preparing to unpack .../67-libtext-unidecode-perl_1.30-1_all.deb ...\n",
      "Unpacking libtext-unidecode-perl (1.30-1) ...\n",
      "Selecting previously unselected package libtie-ixhash-perl.\n",
      "Preparing to unpack .../68-libtie-ixhash-perl_1.23-2_all.deb ...\n",
      "Unpacking libtie-ixhash-perl (1.23-2) ...\n",
      "Selecting previously unselected package libx11-protocol-perl.\n",
      "Preparing to unpack .../69-libx11-protocol-perl_0.56-7_all.deb ...\n",
      "Unpacking libx11-protocol-perl (0.56-7) ...\n",
      "Selecting previously unselected package libxt6:amd64.\n",
      "Preparing to unpack .../70-libxt6_1%3a1.1.5-1_amd64.deb ...\n",
      "Unpacking libxt6:amd64 (1:1.1.5-1) ...\n",
      "Selecting previously unselected package libxmu6:amd64.\n",
      "Preparing to unpack .../71-libxmu6_2%3a1.1.2-2_amd64.deb ...\n",
      "Unpacking libxmu6:amd64 (2:1.1.2-2) ...\n",
      "Selecting previously unselected package libxpm4:amd64.\n",
      "Preparing to unpack .../72-libxpm4_1%3a3.5.12-1ubuntu0.18.04.2_amd64.deb ...\n",
      "Unpacking libxpm4:amd64 (1:3.5.12-1ubuntu0.18.04.2) ...\n",
      "Selecting previously unselected package libxaw7:amd64.\n",
      "Preparing to unpack .../73-libxaw7_2%3a1.0.13-1_amd64.deb ...\n",
      "Unpacking libxaw7:amd64 (2:1.0.13-1) ...\n",
      "Selecting previously unselected package libxcb-shape0:amd64.\n",
      "Preparing to unpack .../74-libxcb-shape0_1.13-2~ubuntu18.04_amd64.deb ...\n",
      "Unpacking libxcb-shape0:amd64 (1.13-2~ubuntu18.04) ...\n",
      "Selecting previously unselected package libxml-namespacesupport-perl.\n",
      "Preparing to unpack .../75-libxml-namespacesupport-perl_1.12-1_all.deb ...\n",
      "Unpacking libxml-namespacesupport-perl (1.12-1) ...\n",
      "Selecting previously unselected package libxml-sax-base-perl.\n",
      "Preparing to unpack .../76-libxml-sax-base-perl_1.09-1_all.deb ...\n",
      "Unpacking libxml-sax-base-perl (1.09-1) ...\n",
      "Selecting previously unselected package libxml-sax-perl.\n",
      "Preparing to unpack .../77-libxml-sax-perl_0.99+dfsg-2ubuntu1_all.deb ...\n",
      "Unpacking libxml-sax-perl (0.99+dfsg-2ubuntu1) ...\n",
      "Selecting previously unselected package libxml-libxml-perl.\n",
      "Preparing to unpack .../78-libxml-libxml-perl_2.0128+dfsg-5_amd64.deb ...\n",
      "Unpacking libxml-libxml-perl (2.0128+dfsg-5) ...\n",
      "Selecting previously unselected package libxml-sax-expat-perl.\n",
      "Preparing to unpack .../79-libxml-sax-expat-perl_0.40-2_all.deb ...\n",
      "Unpacking libxml-sax-expat-perl (0.40-2) ...\n",
      "Selecting previously unselected package libxml-xpathengine-perl.\n",
      "Preparing to unpack .../80-libxml-xpathengine-perl_0.14-1_all.deb ...\n",
      "Unpacking libxml-xpathengine-perl (0.14-1) ...\n",
      "Selecting previously unselected package libxtst6:amd64.\n",
      "Preparing to unpack .../81-libxtst6_2%3a1.2.3-1_amd64.deb ...\n",
      "Unpacking libxtst6:amd64 (2:1.2.3-1) ...\n",
      "Selecting previously unselected package libxv1:amd64.\n",
      "Preparing to unpack .../82-libxv1_2%3a1.0.11-1_amd64.deb ...\n",
      "Unpacking libxv1:amd64 (2:1.0.11-1) ...\n",
      "Selecting previously unselected package libzzip-0-13:amd64.\n",
      "Preparing to unpack .../83-libzzip-0-13_0.13.62-3.1ubuntu0.18.04.1_amd64.deb ...\n",
      "Unpacking libzzip-0-13:amd64 (0.13.62-3.1ubuntu0.18.04.1) ...\n",
      "Selecting previously unselected package texinfo.\n",
      "Preparing to unpack .../84-texinfo_6.5.0.dfsg.1-2_amd64.deb ...\n",
      "Unpacking texinfo (6.5.0.dfsg.1-2) ...\n",
      "Selecting previously unselected package t1utils.\n",
      "Preparing to unpack .../85-t1utils_1.41-2_amd64.deb ...\n",
      "Unpacking t1utils (1.41-2) ...\n",
      "Selecting previously unselected package texlive-binaries.\n",
      "Preparing to unpack .../86-texlive-binaries_2017.20170613.44572-8ubuntu0.1_amd64.deb ...\n",
      "Unpacking texlive-binaries (2017.20170613.44572-8ubuntu0.1) ...\n",
      "Selecting previously unselected package lilypond-data.\n",
      "Preparing to unpack .../87-lilypond-data_2.18.2-12build1_all.deb ...\n",
      "Unpacking lilypond-data (2.18.2-12build1) ...\n",
      "Selecting previously unselected package lilypond.\n",
      "Preparing to unpack .../88-lilypond_2.18.2-12build1_amd64.deb ...\n",
      "warning: kpathsea: configuration file texmf.cnf not found in these directories: /etc/texmf/web2c:/usr/local/share/texmf/web2c:/usr/share/texmf/web2c:/usr/share/texlive/texmf-dist/web2c://share/texmf/web2c.\n",
      "warning: kpathsea: configuration file texmf.cnf not found in these directories: /etc/texmf/web2c:/usr/local/share/texmf/web2c:/usr/share/texmf/web2c:/usr/share/texlive/texmf-dist/web2c://share/texmf/web2c.\n",
      "Unpacking lilypond (2.18.2-12build1) ...\n",
      "Selecting previously unselected package lmodern.\n",
      "Preparing to unpack .../89-lmodern_2.004.5-3_all.deb ...\n",
      "Unpacking lmodern (2.004.5-3) ...\n",
      "Selecting previously unselected package xdg-utils.\n",
      "Preparing to unpack .../90-xdg-utils_1.1.2-1ubuntu2.5_all.deb ...\n",
      "Unpacking xdg-utils (1.1.2-1ubuntu2.5) ...\n",
      "Selecting previously unselected package texlive-base.\n",
      "Preparing to unpack .../91-texlive-base_2017.20180305-1_all.deb ...\n",
      "Unpacking texlive-base (2017.20180305-1) ...\n",
      "Selecting previously unselected package texlive-latex-base.\n",
      "Preparing to unpack .../92-texlive-latex-base_2017.20180305-1_all.deb ...\n",
      "Unpacking texlive-latex-base (2017.20180305-1) ...\n",
      "Selecting previously unselected package x11-utils.\n",
      "Preparing to unpack .../93-x11-utils_7.7+3build1_amd64.deb ...\n",
      "Unpacking x11-utils (7.7+3build1) ...\n",
      "Selecting previously unselected package x11-xserver-utils.\n",
      "Preparing to unpack .../94-x11-xserver-utils_7.7+7build1_amd64.deb ...\n",
      "Unpacking x11-xserver-utils (7.7+7build1) ...\n",
      "Selecting previously unselected package libauthen-sasl-perl.\n",
      "Preparing to unpack .../95-libauthen-sasl-perl_2.1600-1_all.deb ...\n",
      "Unpacking libauthen-sasl-perl (2.1600-1) ...\n",
      "Setting up libgs9-common (9.26~dfsg+0-0ubuntu0.18.04.17) ...\n",
      "Setting up libhtml-tagset-perl (3.20-3) ...\n",
      "Setting up libkpathsea6:amd64 (2017.20170613.44572-8ubuntu0.1) ...\n",
      "Setting up libpaper1:amd64 (1.1.24+nmu5ubuntu1) ...\n",
      "debconf: unable to initialize frontend: Dialog\n",
      "debconf: (No usable dialog-like program is installed, so the dialog based frontend cannot be used. at /usr/share/perl5/Debconf/FrontEnd/Dialog.pm line 76.)\n",
      "debconf: falling back to frontend: Readline\n",
      "\n",
      "Creating config file /etc/papersize with new version\n",
      "Setting up libtexlua52:amd64 (2017.20170613.44572-8ubuntu0.1) ...\n",
      "Setting up libtry-tiny-perl (0.30-1) ...\n",
      "Setting up fonts-droid-fallback (1:6.0.1r16-1.1) ...\n",
      "Setting up libpaper-utils (1.1.24+nmu5ubuntu1) ...\n",
      "Setting up libfont-afm-perl (1.20-2) ...\n",
      "Setting up libsynctex1:amd64 (2017.20170613.44572-8ubuntu0.1) ...\n",
      "Setting up libptexenc1:amd64 (2017.20170613.44572-8ubuntu0.1) ...\n",
      "Setting up libharfbuzz-icu0:amd64 (1.7.2-1ubuntu1) ...\n",
      "Setting up tex-common (6.09) ...\n",
      "debconf: unable to initialize frontend: Dialog\n",
      "debconf: (No usable dialog-like program is installed, so the dialog based frontend cannot be used. at /usr/share/perl5/Debconf/FrontEnd/Dialog.pm line 76.)\n",
      "debconf: falling back to frontend: Readline\n",
      "update-language: texlive-base not installed and configured, doing nothing!\n",
      "Setting up libxml-namespacesupport-perl (1.12-1) ...\n",
      "Setting up gsfonts (1:8.11+urwcyr1.0.7~pre44-4.4) ...\n",
      "Setting up libencode-locale-perl (1.05-1) ...\n",
      "Setting up libtimedate-perl (2.3000-2) ...\n",
      "Setting up poppler-data (0.4.8-2) ...\n",
      "Setting up perl-openssl-defaults:amd64 (3build1) ...\n",
      "Setting up libipc-system-simple-perl (1.25-4) ...\n",
      "Setting up libfile-basedir-perl (0.07-1) ...\n",
      "Setting up libio-html-perl (1.001-1) ...\n",
      "Setting up libtext-unidecode-perl (1.30-1) ...\n",
      "Setting up libtie-ixhash-perl (1.23-2) ...\n",
      "Setting up libnspr4:amd64 (2:4.18-1ubuntu1) ...\n",
      "Setting up libxmuu1:amd64 (2:1.1.2-2) ...\n",
      "Setting up libxtst6:amd64 (2:1.2.3-1) ...\n",
      "Setting up fonts-noto-mono (20171026-2) ...\n",
      "Setting up libxml-sax-base-perl (1.09-1) ...\n",
      "Setting up libjbig2dec0:amd64 (0.13-6) ...\n",
      "Setting up liblwp-mediatypes-perl (6.02-1) ...\n",
      "Setting up libxxf86dga1:amd64 (2:1.1.4-1) ...\n",
      "Setting up liburi-perl (1.73-1) ...\n",
      "Setting up t1utils (1.41-2) ...\n",
      "Setting up libtext-iconv-perl (1.7-5build6) ...\n",
      "Setting up libdata-dump-perl (1.23-1) ...\n",
      "Setting up libltdl7:amd64 (2.4.6-2) ...\n",
      "Setting up libhtml-parser-perl (3.72-3build1) ...\n",
      "Setting up libijs-0.35:amd64 (0.35-13) ...\n",
      "Setting up libfontenc1:amd64 (1:1.1.3-1) ...\n",
      "Setting up libxpm4:amd64 (1:3.5.12-1ubuntu0.18.04.2) ...\n",
      "Setting up libxt6:amd64 (1:1.1.5-1) ...\n",
      "Setting up libxcb-shape0:amd64 (1.13-2~ubuntu18.04) ...\n",
      "Setting up libpotrace0 (1.14-2) ...\n",
      "Setting up libxv1:amd64 (2:1.0.11-1) ...\n",
      "Setting up libx11-protocol-perl (0.56-7) ...\n",
      "Setting up libxml-xpathengine-perl (0.14-1) ...\n",
      "Setting up libnet-http-perl (6.17-1) ...\n",
      "Setting up libzzip-0-13:amd64 (0.13.62-3.1ubuntu0.18.04.1) ...\n",
      "Setting up xdg-utils (1.1.2-1ubuntu2.5) ...\n",
      "Setting up libwww-robotrules-perl (6.01-1) ...\n",
      "Setting up libtexluajit2:amd64 (2017.20170613.44572-8ubuntu0.1) ...\n",
      "Setting up libauthen-sasl-perl (2.1600-1) ...\n",
      "Setting up fonts-lmodern (2.004.5-3) ...\n",
      "Setting up libcups2:amd64 (2.2.7-1ubuntu2.9) ...\n",
      "Setting up netbase (5.4) ...\n",
      "Setting up libxml-sax-perl (0.99+dfsg-2ubuntu1) ...\n",
      "update-perl-sax-parsers: Registering Perl SAX parser XML::SAX::PurePerl with priority 10...\n",
      "update-perl-sax-parsers: Updating overall Perl SAX parser modules info file...\n",
      "debconf: unable to initialize frontend: Dialog\n",
      "debconf: (No usable dialog-like program is installed, so the dialog based frontend cannot be used. at /usr/share/perl5/Debconf/FrontEnd/Dialog.pm line 76.)\n",
      "debconf: falling back to frontend: Readline\n",
      "\n",
      "Creating config file /etc/perl/XML/SAX/ParserDetails.ini with new version\n",
      "Setting up libhttp-date-perl (6.02-1) ...\n",
      "Setting up libnet-ssleay-perl (1.84-1ubuntu0.2) ...\n",
      "Setting up libnss3:amd64 (2:3.35-2ubuntu2.15) ...\n",
      "Setting up libio-socket-ssl-perl (2.060-3~ubuntu18.04.1) ...\n",
      "Setting up libhtml-tree-perl (5.07-1) ...\n",
      "Setting up libxmu6:amd64 (2:1.1.2-2) ...\n",
      "Setting up libcupsfilters1:amd64 (1.20.2-0ubuntu3.1) ...\n",
      "Setting up libpoppler73:amd64 (0.62.0-2ubuntu2.14) ...\n",
      "Setting up libcupsimage2:amd64 (2.2.7-1ubuntu2.9) ...\n",
      "Setting up libfile-desktopentry-perl (0.22-1) ...\n",
      "Setting up libfile-listing-perl (6.04-1) ...\n",
      "Setting up libhttp-message-perl (6.14-1) ...\n",
      "Setting up libxml-libxml-perl (2.0128+dfsg-5) ...\n",
      "update-perl-sax-parsers: Registering Perl SAX parser XML::LibXML::SAX::Parser with priority 50...\n",
      "update-perl-sax-parsers: Registering Perl SAX parser XML::LibXML::SAX with priority 50...\n",
      "update-perl-sax-parsers: Updating overall Perl SAX parser modules info file...\n",
      "debconf: unable to initialize frontend: Dialog\n",
      "debconf: (No usable dialog-like program is installed, so the dialog based frontend cannot be used. at /usr/share/perl5/Debconf/FrontEnd/Dialog.pm line 76.)\n",
      "debconf: falling back to frontend: Readline\n",
      "Replacing config file /etc/perl/XML/SAX/ParserDetails.ini with new version\n",
      "Setting up libfile-mimeinfo-perl (0.28-1) ...\n",
      "Setting up libgs9:amd64 (9.26~dfsg+0-0ubuntu0.18.04.17) ...\n",
      "Setting up lmodern (2.004.5-3) ...\n",
      "Setting up libhttp-negotiate-perl (6.00-2) ...\n",
      "Setting up libxaw7:amd64 (2:1.0.13-1) ...\n",
      "Setting up libnet-smtp-ssl-perl (1.04-1) ...\n",
      "Setting up libhtml-format-perl (2.12-1) ...\n",
      "Setting up libhttp-cookies-perl (6.04-1) ...\n",
      "Setting up x11-utils (7.7+3build1) ...\n",
      "Setting up libhttp-daemon-perl (6.01-1ubuntu0.1) ...\n",
      "Setting up ghostscript (9.26~dfsg+0-0ubuntu0.18.04.17) ...\n",
      "Setting up texlive-binaries (2017.20170613.44572-8ubuntu0.1) ...\n",
      "update-alternatives: using /usr/bin/xdvi-xaw to provide /usr/bin/xdvi.bin (xdvi.bin) in auto mode\n",
      "update-alternatives: using /usr/bin/bibtex.original to provide /usr/bin/bibtex (bibtex) in auto mode\n",
      "update-alternatives: warning: skip creation of /usr/share/man/man1/bibtex.1.gz because associated file /usr/share/man/man1/bibtex.original.1.gz (of link group bibtex) doesn't exist\n",
      "Setting up libhtml-form-perl (6.03-1) ...\n",
      "Setting up texlive-base (2017.20180305-1) ...\n",
      "mktexlsr: Updating /var/lib/texmf/ls-R-TEXLIVEDIST... \n",
      "mktexlsr: Updating /var/lib/texmf/ls-R-TEXMFMAIN... \n",
      "mktexlsr: Updating /var/lib/texmf/ls-R... \n",
      "mktexlsr: Done.\n",
      "tl-paper: setting paper size for dvips to a4: /var/lib/texmf/dvips/config/config-paper.ps\n",
      "tl-paper: setting paper size for dvipdfmx to a4: /var/lib/texmf/dvipdfmx/dvipdfmx-paper.cfg\n",
      "tl-paper: setting paper size for xdvi to a4: /var/lib/texmf/xdvi/XDvi-paper\n",
      "tl-paper: setting paper size for pdftex to a4: /var/lib/texmf/tex/generic/config/pdftexconfig.tex\n",
      "debconf: unable to initialize frontend: Dialog\n",
      "debconf: (No usable dialog-like program is installed, so the dialog based frontend cannot be used. at /usr/share/perl5/Debconf/FrontEnd/Dialog.pm line 76.)\n",
      "debconf: falling back to frontend: Readline\n",
      "Setting up x11-xserver-utils (7.7+7build1) ...\n",
      "Setting up texinfo (6.5.0.dfsg.1-2) ...\n",
      "Running mktexlsr. This may take some time. ... done.\n",
      "Setting up texlive-latex-base (2017.20180305-1) ...\n",
      "Setting up libmailtools-perl (2.18-1) ...\n",
      "Setting up lilypond-data (2.18.2-12build1) ...\n",
      "Setting up lilypond (2.18.2-12build1) ...\n",
      "Setting up liblwp-protocol-https-perl (6.07-2) ...\n",
      "Setting up libwww-perl (6.31-1ubuntu0.1) ...\n",
      "Setting up libxml-parser-perl (2.44-2build3) ...\n",
      "Setting up libxml-sax-expat-perl (0.40-2) ...\n",
      "update-perl-sax-parsers: Registering Perl SAX parser XML::SAX::Expat with priority 50...\n",
      "update-perl-sax-parsers: Updating overall Perl SAX parser modules info file...\n",
      "debconf: unable to initialize frontend: Dialog\n",
      "debconf: (No usable dialog-like program is installed, so the dialog based frontend cannot be used. at /usr/share/perl5/Debconf/FrontEnd/Dialog.pm line 76.)\n",
      "debconf: falling back to frontend: Readline\n",
      "Replacing config file /etc/perl/XML/SAX/ParserDetails.ini with new version\n",
      "Setting up libxml-twig-perl (1:3.50-1) ...\n",
      "Setting up libnet-dbus-perl (1.1.0-4build2) ...\n",
      "Processing triggers for libc-bin (2.27-3ubuntu1.4) ...\n",
      "Processing triggers for fontconfig (2.12.6-0ubuntu2) ...\n",
      "Processing triggers for mime-support (3.60ubuntu1) ...\n",
      "Processing triggers for tex-common (6.09) ...\n",
      "debconf: unable to initialize frontend: Dialog\n",
      "debconf: (No usable dialog-like program is installed, so the dialog based frontend cannot be used. at /usr/share/perl5/Debconf/FrontEnd/Dialog.pm line 76.)\n",
      "debconf: falling back to frontend: Readline\n",
      "Running updmap-sys. This may take some time... done.\n",
      "Running mktexlsr /var/lib/texmf ... done.\n",
      "Building format(s) --all.\n",
      "\tThis may take some time... "
     ]
    }
   ],
   "source": [
    "!sudo apt-get update -y\n",
    "!sudo apt-get install -y lilypond\n",
    "!pip install music21"
   ]
  },
  {
   "cell_type": "markdown",
   "id": "66e0155e",
   "metadata": {
    "id": "1e2583f8"
   },
   "source": [
    "## 5. 필요한 라이브러리 import"
   ]
  },
  {
   "cell_type": "code",
   "execution_count": 5,
   "id": "db94e2b9",
   "metadata": {
    "id": "b3c2075c"
   },
   "outputs": [
    {
     "name": "stderr",
     "output_type": "stream",
     "text": [
      "2023-01-31 07:04:14.501737: I tensorflow/stream_executor/platform/default/dso_loader.cc:53] Successfully opened dynamic library libcudart.so.11.0\n",
      "/usr/local/lib/python3.7/site-packages/requests/__init__.py:104: RequestsDependencyWarning: urllib3 (1.26.7) or chardet (5.1.0)/charset_normalizer (2.0.7) doesn't match a supported version!\n",
      "  RequestsDependencyWarning)\n"
     ]
    }
   ],
   "source": [
    "import tensorflow\n",
    "import numpy as np\n",
    "import pandas as pd\n",
    "from collections import Counter\n",
    "import random\n",
    "import IPython\n",
    "from IPython.display import Image, Audio\n",
    "import music21\n",
    "import os\n",
    "from music21 import *\n",
    "import matplotlib.pyplot as plt \n",
    "from sklearn.model_selection import train_test_split\n",
    "from tensorflow.keras.models import Sequential\n",
    "from tensorflow.keras.layers import LSTM, Dense, Dropout\n",
    "import tensorflow.keras.backend as K\n",
    "from tensorflow.keras.optimizers import Adamax\n",
    "import seaborn as sns\n",
    "import matplotlib.pyplot as plt\n",
    "import matplotlib.patches as mpatches\n",
    "%matplotlib inline\n",
    "import sys\n",
    "import warnings\n",
    "from tqdm import tqdm\n",
    "warnings.filterwarnings(\"ignore\")\n",
    "warnings.simplefilter(\"ignore\")\n",
    "np.random.seed(42)"
   ]
  },
  {
   "cell_type": "markdown",
   "id": "837da571",
   "metadata": {
    "id": "cf0bc72a"
   },
   "source": [
    "## 6. 업로드한 MIDI 파일들 불러오기"
   ]
  },
  {
   "cell_type": "code",
   "execution_count": 6,
   "id": "1159cdd4",
   "metadata": {
    "id": "b4b3fe6b"
   },
   "outputs": [
    {
     "name": "stderr",
     "output_type": "stream",
     "text": [
      "100%|██████████| 48/48 [04:06<00:00,  5.14s/it]\n"
     ]
    }
   ],
   "source": [
    "filepath = \"./chopin/\"\n",
    "#Getting midi files\n",
    "all_midis= []\n",
    "for i in tqdm(os.listdir(filepath)):\n",
    "    if i.endswith(\".mid\"):\n",
    "        tr = filepath+i\n",
    "        midi = converter.parse(tr)\n",
    "        all_midis.append(midi)"
   ]
  },
  {
   "cell_type": "markdown",
   "id": "561564bb",
   "metadata": {
    "id": "54874086"
   },
   "source": [
    "## 7. Note 추출하기\n",
    "음표는 음악의 building block의 역할을 합니다. 본 예제의 MIDI 파일은 피아노 음악만을 포함하고 있으므로 이를 음표의 형태로 추출하게 됩니다.\n",
    "\n",
    "앞서 MIDI 파일들을 모아놓은 `all_midis` 리스트를 순회하며 음표들을 추출하고, 이를 리스트에 넣어 return하는 함수를 정의합니다.\n",
    "\n",
    "### music21 library\n",
    "모든 코드를 이해할 필요는 없지만 `partitionByInstrument()` 등의 메소드가 궁금하다면 `music21` 라이브러리의 공식 document를 참고하시면 됩니다. https://web.mit.edu/music21/doc/moduleReference/moduleInstrument.html\n",
    "\n",
    "*참고: NLP에서 모델 학습을 위한 말뭉치를 `Corpus`라고 합니다. 아래에서 추출한 note들의 리스트가 Corpus의 역할을 합니다."
   ]
  },
  {
   "cell_type": "code",
   "execution_count": 7,
   "id": "9d3beed9",
   "metadata": {
    "id": "3be13229"
   },
   "outputs": [
    {
     "name": "stderr",
     "output_type": "stream",
     "text": [
      "100%|██████████| 48/48 [00:16<00:00,  2.84it/s]"
     ]
    },
    {
     "name": "stdout",
     "output_type": "stream",
     "text": [
      "Total notes in all the Chopin midis in the dataset: 57887\n"
     ]
    },
    {
     "name": "stderr",
     "output_type": "stream",
     "text": [
      "\n"
     ]
    }
   ],
   "source": [
    "# Helping function        \n",
    "def extract_notes(file):\n",
    "    notes = []\n",
    "    pick = None\n",
    "    for j in tqdm(file):\n",
    "        songs = instrument.partitionByInstrument(j)\n",
    "        for part in songs.parts:\n",
    "            pick = part.recurse()\n",
    "            for element in pick:\n",
    "                if isinstance(element, note.Note):\n",
    "                    notes.append(str(element.pitch))\n",
    "                elif isinstance(element, chord.Chord):\n",
    "                    notes.append(\".\".join(str(n) for n in element.normalOrder))\n",
    "\n",
    "    return notes\n",
    "\n",
    "# Getting the list of notes as Corpus\n",
    "Corpus = extract_notes(all_midis)\n",
    "print(\"Total notes in all the Chopin midis in the dataset:\", len(Corpus))"
   ]
  },
  {
   "cell_type": "code",
   "execution_count": 8,
   "id": "7ab558be",
   "metadata": {
    "id": "40bd8646"
   },
   "outputs": [
    {
     "name": "stdout",
     "output_type": "stream",
     "text": [
      "First fifty values in the Corpus: ['8.9', '8.9', '7.8', '8.1', '8.9.1', 'E4', '8.1', '4.8', 'E-6', '1.3.8', '9.1', 'G#5', '1.6', '6.8.1', 'A3', '4.6', 'E-5', '8.1', '1.3.8', 'E4', '8.1', '9.1', 'G#4', '1.6', '6.8.1', 'A3', '4.6', 'E-4', '8.1', '1.3.8', 'E3', '11.1', 'A3', 'G#3', '0.3', 'G#2', '8.10.1', '8.0.3', 'G#3', '1.4.8', '0.3.6', 'G#2', 'E4', '8', '8.1', '8.9.1', '4.8', 'E-6', 'E4', '8.1']\n"
     ]
    }
   ],
   "source": [
    "print(\"First fifty values in the Corpus:\", Corpus[:50])"
   ]
  },
  {
   "cell_type": "markdown",
   "id": "bbc5fc6a",
   "metadata": {
    "id": "922188ed"
   },
   "source": [
    "### 이제 corpus의 형태로 training data를 가지고 있습니다. 위에 보이는 각각의 string이 음표라고 생각하면 됩니다.\n",
    "## 8. Data Exploration\n",
    "### Printing the music sheet"
   ]
  },
  {
   "cell_type": "code",
   "execution_count": 9,
   "id": "39ae9f21",
   "metadata": {
    "id": "ff95de6e"
   },
   "outputs": [
    {
     "name": "stderr",
     "output_type": "stream",
     "text": [
      "Changing working directory to: `/tmp/music21'\n",
      "Processing `/tmp/music21/tmp3iemv58f.ly'\n",
      "Parsing...\n",
      "Interpreting music...[8][16][24][32][40]\n",
      "Preprocessing graphical objects...\n",
      "Calculating line breaks... \n",
      "Drawing systems... \n",
      "Layout output to `tmp3iemv58f.ly.eps'...\n",
      "Converting to PNG...\n",
      "Layout output to `tmp3iemv58f.ly-1.eps'...\n",
      "Layout output to `tmp3iemv58f.ly-2.eps'...\n",
      "Layout output to `tmp3iemv58f.ly-3.eps'...\n",
      "Layout output to `tmp3iemv58f.ly-4.eps'...\n",
      "Layout output to `tmp3iemv58f.ly-5.eps'...\n",
      "Layout output to `tmp3iemv58f.ly-6.eps'...\n",
      "Layout output to `tmp3iemv58f.ly-7.eps'...\n",
      "Writing tmp3iemv58f.ly-systems.texi...\n",
      "Writing tmp3iemv58f.ly-systems.tex...\n",
      "Writing tmp3iemv58f.ly-systems.count...\n",
      "Success: compilation successfully completed\n"
     ]
    },
    {
     "data": {
      "image/png": "[encoded data removed]",
      "text/plain": [
       "<IPython.core.display.Image object>"
      ]
     },
     "metadata": {},
     "output_type": "display_data"
    }
   ],
   "source": [
    "# First Lets write some functions that we need to look into the data\n",
    "def show(music):\n",
    "    display(Image(str(music.write(\"lily.png\"))))\n",
    "    \n",
    "def chords_n_notes(Snippet):\n",
    "    Melody = []\n",
    "    offset = 0 #Incremental\n",
    "    for i in Snippet:\n",
    "        #If it is chord\n",
    "        if (\".\" in i or i.isdigit()):\n",
    "            chord_notes = i.split(\".\") #Seperating the notes in chord\n",
    "            notes = [] \n",
    "            for j in chord_notes:\n",
    "                inst_note=int(j)\n",
    "                note_snip = note.Note(inst_note)            \n",
    "                notes.append(note_snip)\n",
    "                chord_snip = chord.Chord(notes)\n",
    "                chord_snip.offset = offset\n",
    "                Melody.append(chord_snip)\n",
    "        # pattern is a note\n",
    "        else: \n",
    "            note_snip = note.Note(i)\n",
    "            note_snip.offset = offset\n",
    "            Melody.append(note_snip)\n",
    "        # increase offset each iteration so that notes do not stack\n",
    "        offset += 1\n",
    "    Melody_midi = stream.Stream(Melody)   \n",
    "    return Melody_midi\n",
    "\n",
    "Melody_Snippet = chords_n_notes(Corpus[:100])\n",
    "show(Melody_Snippet)"
   ]
  },
  {
   "cell_type": "markdown",
   "id": "31e51d79",
   "metadata": {
    "id": "cc23bbf7"
   },
   "source": [
    "### 전체 Corpus에 존재하는 음표의 개수를 확인해 봅니다.\n",
    "\n",
    "[참고] `Counter` 클래스를 모른다면?\n",
    "https://docs.python.org/ko/3/library/collections.html#collections.Counter\n",
    "\n",
    "Counter 클래스는 입력으로 들어온 Iterable에서 각 원소가 몇 번씩 나오는지를 알려주는 객체를 생성합니다. 딕셔너리처럼 key를 이용하여 값을 읽을 수 있고, 특정 key가 Counter에 존재하는지도 확인할 수 있습니다. 아래는 예시입니다.\n",
    "``` Python\n",
    ">>> Counter([\"hi\", \"hey\", \"hi\", \"hi\", \"hello\", \"hey\"])\n",
    "Counter({'hi': 3, 'hey': 2, 'hello': 1})\n",
    "```"
   ]
  },
  {
   "cell_type": "code",
   "execution_count": 10,
   "id": "d1a28213",
   "metadata": {
    "id": "e7496549"
   },
   "outputs": [
    {
     "name": "stdout",
     "output_type": "stream",
     "text": [
      "Total unique notes in the Corpus: 397\n"
     ]
    }
   ],
   "source": [
    "# Creating a count dictionary\n",
    "count_num = Counter(Corpus)\n",
    "print(\"Total unique notes in the Corpus:\", len(count_num))"
   ]
  },
  {
   "cell_type": "markdown",
   "id": "eeaad445",
   "metadata": {
    "id": "108ba667"
   },
   "source": [
    "## 음표의 등장 빈도를 확인해 봅니다.\n",
    "특정 멜로디에서 자주 등장하는 음표가 있을 것이고, 어떤 음표의 경우에는 아주 가끔씩만 등장할 것입니다. RNN / LSTM 모델링에서 빈도가 너무 낮게 등장하는 경우에는 문제가 발생합니다. 따라서 발생 빈도를 살펴보도록 합시다."
   ]
  },
  {
   "cell_type": "code",
   "execution_count": 11,
   "id": "a2829e46",
   "metadata": {
    "id": "1fad8922"
   },
   "outputs": [
    {
     "name": "stdout",
     "output_type": "stream",
     "text": [
      "Average recurrence for a note in Corpus: 145.8110831234257\n",
      "Most frequent note in Corpus appeared: 1627 times\n",
      "Least frequent note in Corpus appeared: 1 time\n"
     ]
    }
   ],
   "source": [
    "# Exploring the notes dictionary\n",
    "Notes = list(count_num.keys())\n",
    "Recurrence = list(count_num.values())\n",
    "\n",
    "# Average recurrence for a note in Corpus\n",
    "def Average(lst):\n",
    "    return sum(lst) / len(lst)\n",
    "print(\"Average recurrence for a note in Corpus:\", Average(Recurrence))\n",
    "print(\"Most frequent note in Corpus appeared:\", max(Recurrence), \"times\")\n",
    "print(\"Least frequent note in Corpus appeared:\", min(Recurrence), \"time\")"
   ]
  },
  {
   "cell_type": "code",
   "execution_count": 12,
   "id": "0839b476",
   "metadata": {
    "id": "ddfc38f3"
   },
   "outputs": [
    {
     "data": {
      "image/png": "[encoded data removed]",
      "text/plain": [
       "<Figure size 1296x216 with 1 Axes>"
      ]
     },
     "metadata": {
      "image/png": {
       "height": 222,
       "width": 1058
      }
     },
     "output_type": "display_data"
    }
   ],
   "source": [
    "# Plotting the distribution of Notes\n",
    "plt.figure(figsize=(18,3),facecolor=\"#97BACB\")\n",
    "bins = np.arange(0,(max(Recurrence)), 50) \n",
    "plt.hist(Recurrence, bins=bins, color=\"#97BACB\")\n",
    "plt.axvline(x=100,color=\"#DBACC1\")\n",
    "plt.title(\"Frequency Distribution Of Notes In The Corpus\")\n",
    "plt.xlabel(\"Frequency Of Chords in Corpus\")\n",
    "plt.ylabel(\"Number Of Chords\")\n",
    "plt.show()"
   ]
  },
  {
   "cell_type": "markdown",
   "id": "c365a78a",
   "metadata": {
    "id": "8a377bca"
   },
   "source": [
    "### 100번 미만으로 등장한 음표들은 제거\n",
    "`count_num` 객체에서 iteration을 하면서 `key`, `value`를 뽑아냅니다. `key`는 음표를 나타내는 string이고 `value`는 해당 음표가 등장한 횟수입니다. 따라서 등장 횟수가 100번 미만이면 `rare_note`라는 리스트에 집어넣어서 나중에 제거합니다."
   ]
  },
  {
   "cell_type": "code",
   "execution_count": 13,
   "id": "e267afa3",
   "metadata": {
    "id": "a8904b6c"
   },
   "outputs": [
    {
     "name": "stdout",
     "output_type": "stream",
     "text": [
      "Total number of notes that occur less than 100 times: 271\n"
     ]
    }
   ],
   "source": [
    "# Getting a list of rare chords\n",
    "rare_note = []\n",
    "for index, (key, value) in enumerate(count_num.items()):\n",
    "    if value < 100:\n",
    "        m =  key\n",
    "        rare_note.append(m)\n",
    "        \n",
    "print(\"Total number of notes that occur less than 100 times:\", len(rare_note))"
   ]
  },
  {
   "cell_type": "code",
   "execution_count": 14,
   "id": "0edae044",
   "metadata": {
    "id": "8e7fdb95"
   },
   "outputs": [
    {
     "name": "stdout",
     "output_type": "stream",
     "text": [
      "Length of Corpus after elemination the rare notes: 53712\n"
     ]
    }
   ],
   "source": [
    "# Rare note에 해당하는 음표들을 제거해 줍니다.\n",
    "for element in Corpus:\n",
    "    if element in rare_note:\n",
    "        Corpus.remove(element)\n",
    "\n",
    "print(\"Length of Corpus after elemination the rare notes:\", len(Corpus))"
   ]
  },
  {
   "cell_type": "markdown",
   "id": "3d357ec6",
   "metadata": {
    "id": "51d33cfc"
   },
   "source": [
    "##  9. Data Prepreocessing\n",
    "음표들을 LSTM에 집어넣으려면 모두 인코딩을 해줘야 합니다. NLP에서 단어를 각각 벡터로 표현해준 것과 유사합니다. 순서는 다음과 같습니다.\n",
    "\n",
    "1. <b>Dictionary 생성</b>: 우선 각각의 음표를 index로 mapping해주는 dictionary를 만들어야 합니다. 음표는 string으로 표현되므로 각각의 string을 index로 바꾸어주면 됩니다.\n",
    "2. <b>Encodding and Splitting the corpus</b>: Corpus를 1번에서 만든 dictionary를 이용하여 인코딩 해주고, 다음으로 이를 동일한 길이의 sequence로 쪼개주어야 합니다.\n",
    "3. <b>Assigning X and y</b>: Label을 resize하고 normalize 해주고, target은 one-hot encoding을 해줍니다.\n",
    "\n",
    "* Reverse mapping을 굳이 따로 정의해주는 것은 시간 복잡도 관점에서 생각하면 됩니다. 만약 이를 정의하지 않는다면 디코딩 과정에서 매번 loop를 돌아야 하므로 비효율적입니다."
   ]
  },
  {
   "cell_type": "markdown",
   "id": "c7784695",
   "metadata": {
    "id": "fe7b6c82"
   },
   "source": [
    "### Dictionary 생성"
   ]
  },
  {
   "cell_type": "code",
   "execution_count": 15,
   "id": "143ae74c",
   "metadata": {
    "id": "cf608f79"
   },
   "outputs": [
    {
     "name": "stdout",
     "output_type": "stream",
     "text": [
      "Total number of characters: 53712\n",
      "Number of unique characters: 266\n"
     ]
    }
   ],
   "source": [
    "# Storing all the unique characters present in my corpus to bult a mapping dic.\n",
    "symb = sorted(list(set(Corpus)))\n",
    "\n",
    "L_corpus = len(Corpus) # length of corpus\n",
    "L_symb = len(symb) # length of total unique characters\n",
    "\n",
    "# Building dictionary to access the vocabulary from indices and vice versa\n",
    "mapping = dict((c, i) for i, c in enumerate(symb))\n",
    "reverse_mapping = dict((i, c) for i, c in enumerate(symb))\n",
    "\n",
    "print(\"Total number of characters:\", L_corpus)\n",
    "print(\"Number of unique characters:\", L_symb)"
   ]
  },
  {
   "cell_type": "markdown",
   "id": "5a8b84b7",
   "metadata": {
    "id": "3a18bb23"
   },
   "source": [
    "## [중요!] Encodding and Splitting the Corpus\n",
    "RNN 기반의 아키텍쳐를 사용할 때 가장 헷갈리는 부분입니다. RNN이나 LSTM은 input 데이터의 dimension을 정확하게 맞춰주어야 하는데, 이 과정이 조금 까다롭습니다. 😞 참고로 아래 이미지와 같이 고정된 길이의 sequence를 가지고 다음에 나올 부분을 예측하고, 그대로 한 칸 이동해서 동일한 방식으로 training이 진행됩니다. 흔히 말하는 sliding window 방식입니다.\n",
    "\n",
    "참고: https://data-analysis-expertise.tistory.com/67\n",
    "\n",
    "Keras LSTM documentation: https://www.tensorflow.org/api_docs/python/tf/keras/layers/LSTM\n",
    "\n",
    "![image](https://www.researchgate.net/publication/350511416/figure/fig1/AS:1007244028174337@1617157098300/LSTM-sliding-window-prediction-principle.png)\n",
    "\n",
    "우선, RNN에 들어가는 input은 반드시 (batch, timesteps, feature)으로 3개의 차원을 가져야 합니다. \n",
    "- Batch: 전체 데이터의 개수를 의미합니다.\n",
    "- Timesteps: Input data의 sequence 길이를 말합니다. 예를 들어 30일동안의 주가를 바탕으로 다음 날의 주가를 예측하고 싶다고 하면 sequence length가 30이 될 것입니다.\n",
    "- Feature: Input (X)에서 feature의 수를 의미합니다. 일반적으로 1이고, 만약 주식 가격 예측에서 open, high, low, close 가격을 모두 사용해서 close를 예측하겠다면 4가 될 것입니다.\n",
    "\n",
    "아래 모델에서는 40개의 음표를 가지고 다음 음표를 예측하는 task를 수행할 것입니다. 따라서 timesteps는 40이 됩니다. 실제로 문제를 풀다보면 timesteps만 잘 정해주면 나머지 두 개의 차원은 생각할 필요는 없습니다. Reshape만 잘 해서 차원을 맞춰주면 됩니다.\n"
   ]
  },
  {
   "cell_type": "code",
   "execution_count": 16,
   "id": "24387786",
   "metadata": {
    "id": "ba0308c2"
   },
   "outputs": [
    {
     "name": "stdout",
     "output_type": "stream",
     "text": [
      "Total number of sequences in the Corpus: 53672\n"
     ]
    }
   ],
   "source": [
    "# Splitting the Corpus in equal length of strings and output target\n",
    "# 앞서 설명한 sliding window 방식으로 데이터를 생성해주는 과정입니다.\n",
    "length = 40\n",
    "features = []\n",
    "targets = []\n",
    "for i in range(0, L_corpus - length, 1):\n",
    "    feature = Corpus[i:i + length]  # i번째부터 40개의 음표 string\n",
    "    target = Corpus[i + length]  # 40개의 음표 바로 다음의 음표 string\n",
    "    features.append([mapping[j] for j in feature])  # 40개를 모두 index로 바꾼 뒤 리스트에 넣어서 append\n",
    "    targets.append(mapping[target])  # 예측 대상인 음표도 index로 바꾼 뒤 append\n",
    "    \n",
    "    \n",
    "L_datapoints = len(targets)  # 결국 window를 계속 움직이며 총 target개의 예측을 수행해야 한다.\n",
    "print(\"Total number of sequences in the Corpus:\", L_datapoints)"
   ]
  },
  {
   "cell_type": "code",
   "execution_count": 17,
   "id": "e3661ec2",
   "metadata": {
    "id": "047bc69b"
   },
   "outputs": [],
   "source": [
    "# reshape X and normalize\n",
    "X = (np.reshape(features, (L_datapoints, length, 1))) / float(L_symb)\n",
    "# one hot encode the output variable\n",
    "y = tensorflow.keras.utils.to_categorical(targets)"
   ]
  },
  {
   "cell_type": "code",
   "execution_count": 18,
   "id": "2ed1497e",
   "metadata": {
    "colab": {
     "base_uri": "https://localhost:8080/"
    },
    "executionInfo": {
     "elapsed": 3,
     "status": "ok",
     "timestamp": 1674665297999,
     "user": {
      "displayName": "Seongwon Cho",
      "userId": "03934123190537355550"
     },
     "user_tz": -540
    },
    "id": "03a042e0",
    "outputId": "7527fcba-0210-41be-b882-a54b58055d7d"
   },
   "outputs": [
    {
     "data": {
      "text/plain": [
       "((53672, 40, 1), (53672, 266))"
      ]
     },
     "execution_count": 18,
     "metadata": {},
     "output_type": "execute_result"
    }
   ],
   "source": [
    "# Batch, timesteps, features\n",
    "X.shape, y.shape"
   ]
  },
  {
   "cell_type": "code",
   "execution_count": 19,
   "id": "6019155d",
   "metadata": {
    "id": "29d8bc76"
   },
   "outputs": [],
   "source": [
    "# Taking out a subset of data to be used as seed\n",
    "X_train, X_seed, y_train, y_seed = train_test_split(X, y, test_size=0.2, random_state=42)"
   ]
  },
  {
   "cell_type": "markdown",
   "id": "2d5a2b66",
   "metadata": {
    "id": "3430edf1"
   },
   "source": [
    "## 10. LSTM layer 구성하기\n",
    "keras에서 `Sequential` 모델을 생성한 뒤, 모델에 layer를 하나씩 넘겨주면 쉽게 구현할 수 있습니다.\n",
    "\n",
    "참고: https://tykimos.github.io/2017/04/09/RNN_Getting_Started/\n",
    "- LSTM: 출력 벡터의 차원, input shape를 넘겨주면 됩니다. 이때 `return_sequences`는 마지막 sequence에서 output을 한 번만 출력할지 여부를 결정해 줍니다. LSTM을 여러 개 쌓거나 many to many 문제를 푼다면 `True`로 지정해주면 됩니다.\n",
    "- Dropout: Overfitting 문제를 해결하기 위해 input에 dropout을 적용합니다. Dropout은 training 과정에서만 수행하고 inference 과정에서는 해제해줘야 하는데, 이후에 `model.fit()` 함수에서 자동으로 이를 해결해 줍니다.\n",
    "- Dense: Fully Connected (FC) layer를 구성합니다. 이전 layer인 LSTM layer에서 길이가 256인 벡터를 반환하므로 input shape는 자동으로 256이 됩니다. 따라서 output shape만 256으로 지정해주면 됩니다.\n",
    "- Adamax optimizer: Adam optimizer의 변형 중 하나로, time-variant한 task에서 주로 사용됩니다.\n",
    "- `model.compile`: Training을 하기에 앞서서 loss와 optimizer 등을 지정해주고, 앞서 구성한 layer들을 모두 합쳐서 모델을 구성하게 됩니다."
   ]
  },
  {
   "cell_type": "code",
   "execution_count": 20,
   "id": "b4ae5ad0",
   "metadata": {
    "id": "70f4edbc"
   },
   "outputs": [
    {
     "name": "stderr",
     "output_type": "stream",
     "text": [
      "2023-01-31 07:10:06.661730: I tensorflow/stream_executor/platform/default/dso_loader.cc:53] Successfully opened dynamic library libcuda.so.1\n",
      "2023-01-31 07:10:06.721780: I tensorflow/core/common_runtime/gpu/gpu_device.cc:1733] Found device 0 with properties: \n",
      "pciBusID: 0000:01:00.0 name: NVIDIA GeForce RTX 3090 computeCapability: 8.6\n",
      "coreClock: 1.695GHz coreCount: 82 deviceMemorySize: 23.70GiB deviceMemoryBandwidth: 871.81GiB/s\n",
      "2023-01-31 07:10:06.722459: I tensorflow/core/common_runtime/gpu/gpu_device.cc:1733] Found device 1 with properties: \n",
      "pciBusID: 0000:25:00.0 name: NVIDIA GeForce RTX 3090 computeCapability: 8.6\n",
      "coreClock: 1.695GHz coreCount: 82 deviceMemorySize: 23.70GiB deviceMemoryBandwidth: 871.81GiB/s\n",
      "2023-01-31 07:10:06.722481: I tensorflow/stream_executor/platform/default/dso_loader.cc:53] Successfully opened dynamic library libcudart.so.11.0\n",
      "2023-01-31 07:10:06.729885: I tensorflow/stream_executor/platform/default/dso_loader.cc:53] Successfully opened dynamic library libcublas.so.11\n",
      "2023-01-31 07:10:06.729928: I tensorflow/stream_executor/platform/default/dso_loader.cc:53] Successfully opened dynamic library libcublasLt.so.11\n",
      "2023-01-31 07:10:06.732087: I tensorflow/stream_executor/platform/default/dso_loader.cc:53] Successfully opened dynamic library libcufft.so.10\n",
      "2023-01-31 07:10:06.732347: I tensorflow/stream_executor/platform/default/dso_loader.cc:53] Successfully opened dynamic library libcurand.so.10\n",
      "2023-01-31 07:10:06.734144: I tensorflow/stream_executor/platform/default/dso_loader.cc:53] Successfully opened dynamic library libcusolver.so.11\n",
      "2023-01-31 07:10:06.735775: I tensorflow/stream_executor/platform/default/dso_loader.cc:53] Successfully opened dynamic library libcusparse.so.11\n",
      "2023-01-31 07:10:06.735967: I tensorflow/stream_executor/platform/default/dso_loader.cc:53] Successfully opened dynamic library libcudnn.so.8\n",
      "2023-01-31 07:10:06.738332: I tensorflow/core/common_runtime/gpu/gpu_device.cc:1871] Adding visible gpu devices: 0, 1\n",
      "2023-01-31 07:10:06.738991: I tensorflow/core/platform/cpu_feature_guard.cc:142] This TensorFlow binary is optimized with oneAPI Deep Neural Network Library (oneDNN) to use the following CPU instructions in performance-critical operations:  AVX2 FMA\n",
      "To enable them in other operations, rebuild TensorFlow with the appropriate compiler flags.\n",
      "2023-01-31 07:10:06.932552: I tensorflow/core/common_runtime/gpu/gpu_device.cc:1733] Found device 0 with properties: \n",
      "pciBusID: 0000:01:00.0 name: NVIDIA GeForce RTX 3090 computeCapability: 8.6\n",
      "coreClock: 1.695GHz coreCount: 82 deviceMemorySize: 23.70GiB deviceMemoryBandwidth: 871.81GiB/s\n",
      "2023-01-31 07:10:06.933366: I tensorflow/core/common_runtime/gpu/gpu_device.cc:1733] Found device 1 with properties: \n",
      "pciBusID: 0000:25:00.0 name: NVIDIA GeForce RTX 3090 computeCapability: 8.6\n",
      "coreClock: 1.695GHz coreCount: 82 deviceMemorySize: 23.70GiB deviceMemoryBandwidth: 871.81GiB/s\n",
      "2023-01-31 07:10:06.935734: I tensorflow/core/common_runtime/gpu/gpu_device.cc:1871] Adding visible gpu devices: 0, 1\n",
      "2023-01-31 07:10:06.935792: I tensorflow/stream_executor/platform/default/dso_loader.cc:53] Successfully opened dynamic library libcudart.so.11.0\n",
      "2023-01-31 07:10:07.547126: I tensorflow/core/common_runtime/gpu/gpu_device.cc:1258] Device interconnect StreamExecutor with strength 1 edge matrix:\n",
      "2023-01-31 07:10:07.547189: I tensorflow/core/common_runtime/gpu/gpu_device.cc:1264]      0 1 \n",
      "2023-01-31 07:10:07.547197: I tensorflow/core/common_runtime/gpu/gpu_device.cc:1277] 0:   N N \n",
      "2023-01-31 07:10:07.547201: I tensorflow/core/common_runtime/gpu/gpu_device.cc:1277] 1:   N N \n",
      "2023-01-31 07:10:07.550415: I tensorflow/core/common_runtime/gpu/gpu_device.cc:1418] Created TensorFlow device (/job:localhost/replica:0/task:0/device:GPU:0 with 22317 MB memory) -> physical GPU (device: 0, name: NVIDIA GeForce RTX 3090, pci bus id: 0000:01:00.0, compute capability: 8.6)\n",
      "2023-01-31 07:10:07.551586: I tensorflow/core/common_runtime/gpu/gpu_device.cc:1418] Created TensorFlow device (/job:localhost/replica:0/task:0/device:GPU:1 with 22317 MB memory) -> physical GPU (device: 1, name: NVIDIA GeForce RTX 3090, pci bus id: 0000:25:00.0, compute capability: 8.6)\n"
     ]
    }
   ],
   "source": [
    "#Initialising the Model\n",
    "model = Sequential()  # Keras에서 layer를 선형으로 연결할 때 사용\n",
    "\n",
    "# 필요한 layer들을 하나하나 추가해 준다\n",
    "model.add(LSTM(512, input_shape=(X.shape[1], X.shape[2]), return_sequences=True))\n",
    "model.add(Dropout(0.1))\n",
    "model.add(LSTM(256))\n",
    "model.add(Dense(256))\n",
    "model.add(Dropout(0.1))\n",
    "model.add(Dense(y.shape[1], activation='softmax'))\n",
    "# Compiling the model for training\n",
    "opt = Adamax(learning_rate=0.01)\n",
    "model.compile(loss='categorical_crossentropy', optimizer=opt)"
   ]
  },
  {
   "cell_type": "code",
   "execution_count": 21,
   "id": "c5f0381d",
   "metadata": {
    "id": "d68a53ba"
   },
   "outputs": [
    {
     "name": "stdout",
     "output_type": "stream",
     "text": [
      "Model: \"sequential\"\n",
      "_________________________________________________________________\n",
      "Layer (type)                 Output Shape              Param #   \n",
      "=================================================================\n",
      "lstm (LSTM)                  (None, 40, 512)           1052672   \n",
      "_________________________________________________________________\n",
      "dropout (Dropout)            (None, 40, 512)           0         \n",
      "_________________________________________________________________\n",
      "lstm_1 (LSTM)                (None, 256)               787456    \n",
      "_________________________________________________________________\n",
      "dense (Dense)                (None, 256)               65792     \n",
      "_________________________________________________________________\n",
      "dropout_1 (Dropout)          (None, 256)               0         \n",
      "_________________________________________________________________\n",
      "dense_1 (Dense)              (None, 266)               68362     \n",
      "=================================================================\n",
      "Total params: 1,974,282\n",
      "Trainable params: 1,974,282\n",
      "Non-trainable params: 0\n",
      "_________________________________________________________________\n"
     ]
    }
   ],
   "source": [
    "# Model's Summary               \n",
    "model.summary()"
   ]
  },
  {
   "cell_type": "markdown",
   "id": "b7e88b33",
   "metadata": {
    "id": "7ae755ee"
   },
   "source": [
    "## 11. Training\n",
    "\n",
    "혹시라도 중간에 OOM (Cuda out of memory) 오류가 난다면 런타임을 재시작하고 다시 돌리셔야 합니다. nvidia-smi 결과에서 GPU 메모리 점유율을 확인해 보세요."
   ]
  },
  {
   "cell_type": "code",
   "execution_count": 22,
   "id": "b20315d4",
   "metadata": {
    "id": "fcba2097"
   },
   "outputs": [
    {
     "name": "stderr",
     "output_type": "stream",
     "text": [
      "2023-01-31 07:10:14.220698: I tensorflow/compiler/mlir/mlir_graph_optimization_pass.cc:176] None of the MLIR Optimization Passes are enabled (registered 2)\n",
      "2023-01-31 07:10:14.223866: I tensorflow/core/platform/profile_utils/cpu_utils.cc:114] CPU Frequency: 2349935000 Hz\n"
     ]
    },
    {
     "name": "stdout",
     "output_type": "stream",
     "text": [
      "Epoch 1/200\n"
     ]
    },
    {
     "name": "stderr",
     "output_type": "stream",
     "text": [
      "2023-01-31 07:10:16.016430: I tensorflow/stream_executor/platform/default/dso_loader.cc:53] Successfully opened dynamic library libcudnn.so.8\n",
      "2023-01-31 07:10:16.537554: I tensorflow/stream_executor/cuda/cuda_dnn.cc:359] Loaded cuDNN version 8101\n",
      "2023-01-31 07:10:16.680993: I tensorflow/stream_executor/platform/default/dso_loader.cc:53] Successfully opened dynamic library libcublas.so.11\n"
     ]
    },
    {
     "name": "stdout",
     "output_type": "stream",
     "text": [
      "  1/168 [..............................] - ETA: 8:22 - loss: 5.5877"
     ]
    },
    {
     "name": "stderr",
     "output_type": "stream",
     "text": [
      "2023-01-31 07:10:17.112917: I tensorflow/stream_executor/platform/default/dso_loader.cc:53] Successfully opened dynamic library libcublasLt.so.11\n",
      "2023-01-31 07:10:17.113037: I tensorflow/stream_executor/cuda/cuda_blas.cc:1838] TensorFloat-32 will be used for the matrix multiplication. This will only be logged once.\n"
     ]
    },
    {
     "name": "stdout",
     "output_type": "stream",
     "text": [
      "168/168 [==============================] - 5s 13ms/step - loss: 4.7270\n",
      "Epoch 2/200\n",
      "168/168 [==============================] - 2s 13ms/step - loss: 4.6862\n",
      "Epoch 3/200\n",
      "168/168 [==============================] - 2s 13ms/step - loss: 4.6818\n",
      "Epoch 4/200\n",
      "168/168 [==============================] - 2s 13ms/step - loss: 4.6466\n",
      "Epoch 5/200\n",
      "168/168 [==============================] - 2s 13ms/step - loss: 4.4757\n",
      "Epoch 6/200\n",
      "168/168 [==============================] - 2s 13ms/step - loss: 4.4544\n",
      "Epoch 7/200\n",
      "168/168 [==============================] - 2s 13ms/step - loss: 4.4384\n",
      "Epoch 8/200\n",
      "168/168 [==============================] - 2s 13ms/step - loss: 4.4370\n",
      "Epoch 9/200\n",
      "168/168 [==============================] - 2s 13ms/step - loss: 4.4229\n",
      "Epoch 10/200\n",
      "168/168 [==============================] - 2s 13ms/step - loss: 4.4108\n",
      "Epoch 11/200\n",
      "168/168 [==============================] - 2s 13ms/step - loss: 4.4024\n",
      "Epoch 12/200\n",
      "168/168 [==============================] - 2s 13ms/step - loss: 4.3896\n",
      "Epoch 13/200\n",
      "168/168 [==============================] - 2s 13ms/step - loss: 4.3801\n",
      "Epoch 14/200\n",
      "168/168 [==============================] - 2s 13ms/step - loss: 4.3596\n",
      "Epoch 15/200\n",
      "168/168 [==============================] - 2s 13ms/step - loss: 4.3388\n",
      "Epoch 16/200\n",
      "168/168 [==============================] - 2s 13ms/step - loss: 4.2911\n",
      "Epoch 17/200\n",
      "168/168 [==============================] - 2s 12ms/step - loss: 4.2409\n",
      "Epoch 18/200\n",
      "168/168 [==============================] - 2s 13ms/step - loss: 4.1921\n",
      "Epoch 19/200\n",
      "168/168 [==============================] - 2s 12ms/step - loss: 4.1484\n",
      "Epoch 20/200\n",
      "168/168 [==============================] - 2s 12ms/step - loss: 4.0729\n",
      "Epoch 21/200\n",
      "168/168 [==============================] - 2s 13ms/step - loss: 3.9878\n",
      "Epoch 22/200\n",
      "168/168 [==============================] - 2s 13ms/step - loss: 3.8895\n",
      "Epoch 23/200\n",
      "168/168 [==============================] - 2s 13ms/step - loss: 3.7792\n",
      "Epoch 24/200\n",
      "168/168 [==============================] - 2s 13ms/step - loss: 3.6431\n",
      "Epoch 25/200\n",
      "168/168 [==============================] - 2s 13ms/step - loss: 3.5137\n",
      "Epoch 26/200\n",
      "168/168 [==============================] - 2s 13ms/step - loss: 3.3709\n",
      "Epoch 27/200\n",
      "168/168 [==============================] - 2s 12ms/step - loss: 3.2212\n",
      "Epoch 28/200\n",
      "168/168 [==============================] - 2s 13ms/step - loss: 3.0750\n",
      "Epoch 29/200\n",
      "168/168 [==============================] - 2s 13ms/step - loss: 2.9144\n",
      "Epoch 30/200\n",
      "168/168 [==============================] - 2s 13ms/step - loss: 2.7737\n",
      "Epoch 31/200\n",
      "168/168 [==============================] - 2s 12ms/step - loss: 2.6225\n",
      "Epoch 32/200\n",
      "168/168 [==============================] - 2s 12ms/step - loss: 2.4740\n",
      "Epoch 33/200\n",
      "168/168 [==============================] - 2s 12ms/step - loss: 2.3356\n",
      "Epoch 34/200\n",
      "168/168 [==============================] - 2s 12ms/step - loss: 2.1988\n",
      "Epoch 35/200\n",
      "168/168 [==============================] - 2s 12ms/step - loss: 2.0794\n",
      "Epoch 36/200\n",
      "168/168 [==============================] - 2s 12ms/step - loss: 1.9446\n",
      "Epoch 37/200\n",
      "168/168 [==============================] - 2s 12ms/step - loss: 1.8131\n",
      "Epoch 38/200\n",
      "168/168 [==============================] - 2s 13ms/step - loss: 1.7168\n",
      "Epoch 39/200\n",
      "168/168 [==============================] - 2s 12ms/step - loss: 1.5981\n",
      "Epoch 40/200\n",
      "168/168 [==============================] - 2s 13ms/step - loss: 1.4980\n",
      "Epoch 41/200\n",
      "168/168 [==============================] - 2s 12ms/step - loss: 1.4135\n",
      "Epoch 42/200\n",
      "168/168 [==============================] - 2s 13ms/step - loss: 1.3095\n",
      "Epoch 43/200\n",
      "168/168 [==============================] - 2s 13ms/step - loss: 1.2332\n",
      "Epoch 44/200\n",
      "168/168 [==============================] - 2s 13ms/step - loss: 1.1644\n",
      "Epoch 45/200\n",
      "168/168 [==============================] - 2s 13ms/step - loss: 1.1058\n",
      "Epoch 46/200\n",
      "168/168 [==============================] - 2s 12ms/step - loss: 1.0328\n",
      "Epoch 47/200\n",
      "168/168 [==============================] - 2s 12ms/step - loss: 0.9911\n",
      "Epoch 48/200\n",
      "168/168 [==============================] - 2s 12ms/step - loss: 0.9191\n",
      "Epoch 49/200\n",
      "168/168 [==============================] - 2s 12ms/step - loss: 0.8484\n",
      "Epoch 50/200\n",
      "168/168 [==============================] - 2s 12ms/step - loss: 0.8116\n",
      "Epoch 51/200\n",
      "168/168 [==============================] - 2s 13ms/step - loss: 0.7829\n",
      "Epoch 52/200\n",
      "168/168 [==============================] - 2s 13ms/step - loss: 0.7350\n",
      "Epoch 53/200\n",
      "168/168 [==============================] - 2s 13ms/step - loss: 0.7016\n",
      "Epoch 54/200\n",
      "168/168 [==============================] - 2s 13ms/step - loss: 0.6606\n",
      "Epoch 55/200\n",
      "168/168 [==============================] - 2s 13ms/step - loss: 0.6253\n",
      "Epoch 56/200\n",
      "168/168 [==============================] - 2s 13ms/step - loss: 0.5951\n",
      "Epoch 57/200\n",
      "168/168 [==============================] - 2s 13ms/step - loss: 0.5734\n",
      "Epoch 58/200\n",
      "168/168 [==============================] - 2s 13ms/step - loss: 0.5275\n",
      "Epoch 59/200\n",
      "168/168 [==============================] - 2s 13ms/step - loss: 0.5280\n",
      "Epoch 60/200\n",
      "168/168 [==============================] - 2s 13ms/step - loss: 0.4938\n",
      "Epoch 61/200\n",
      "168/168 [==============================] - 2s 13ms/step - loss: 0.4807\n",
      "Epoch 62/200\n",
      "168/168 [==============================] - 2s 13ms/step - loss: 0.4706\n",
      "Epoch 63/200\n",
      "168/168 [==============================] - 2s 12ms/step - loss: 0.4494\n",
      "Epoch 64/200\n",
      "168/168 [==============================] - 2s 13ms/step - loss: 0.4277\n",
      "Epoch 65/200\n",
      "168/168 [==============================] - 2s 13ms/step - loss: 0.4181\n",
      "Epoch 66/200\n",
      "168/168 [==============================] - 2s 13ms/step - loss: 0.3874\n",
      "Epoch 67/200\n",
      "168/168 [==============================] - 2s 13ms/step - loss: 0.3803\n",
      "Epoch 68/200\n",
      "168/168 [==============================] - 2s 13ms/step - loss: 0.3799\n",
      "Epoch 69/200\n",
      "168/168 [==============================] - 2s 13ms/step - loss: 0.3748\n",
      "Epoch 70/200\n",
      "168/168 [==============================] - 2s 13ms/step - loss: 0.3426\n",
      "Epoch 71/200\n",
      "168/168 [==============================] - 2s 13ms/step - loss: 0.3463\n",
      "Epoch 72/200\n",
      "168/168 [==============================] - 2s 13ms/step - loss: 0.3215\n",
      "Epoch 73/200\n",
      "168/168 [==============================] - 2s 13ms/step - loss: 0.3109\n",
      "Epoch 74/200\n",
      "168/168 [==============================] - 2s 13ms/step - loss: 0.3136\n",
      "Epoch 75/200\n",
      "168/168 [==============================] - 2s 13ms/step - loss: 0.2972\n",
      "Epoch 76/200\n",
      "168/168 [==============================] - 2s 13ms/step - loss: 0.2917\n",
      "Epoch 77/200\n",
      "168/168 [==============================] - 2s 13ms/step - loss: 0.2954\n",
      "Epoch 78/200\n",
      "168/168 [==============================] - 2s 13ms/step - loss: 0.2717\n",
      "Epoch 79/200\n",
      "168/168 [==============================] - 2s 13ms/step - loss: 0.2750\n",
      "Epoch 80/200\n",
      "168/168 [==============================] - 2s 13ms/step - loss: 0.2753\n",
      "Epoch 81/200\n",
      "168/168 [==============================] - 2s 13ms/step - loss: 0.2691\n",
      "Epoch 82/200\n",
      "168/168 [==============================] - 2s 13ms/step - loss: 0.2563\n",
      "Epoch 83/200\n",
      "168/168 [==============================] - 2s 13ms/step - loss: 0.2431\n",
      "Epoch 84/200\n",
      "168/168 [==============================] - 2s 13ms/step - loss: 0.2439\n",
      "Epoch 85/200\n",
      "168/168 [==============================] - 2s 12ms/step - loss: 0.2288\n",
      "Epoch 86/200\n",
      "168/168 [==============================] - 2s 13ms/step - loss: 0.2427\n",
      "Epoch 87/200\n",
      "168/168 [==============================] - 2s 13ms/step - loss: 0.2192\n",
      "Epoch 88/200\n",
      "168/168 [==============================] - 2s 13ms/step - loss: 0.2201\n",
      "Epoch 89/200\n",
      "168/168 [==============================] - 2s 13ms/step - loss: 0.2376\n",
      "Epoch 90/200\n",
      "168/168 [==============================] - 2s 13ms/step - loss: 0.2177\n",
      "Epoch 91/200\n",
      "168/168 [==============================] - 2s 13ms/step - loss: 0.2400\n",
      "Epoch 92/200\n",
      "168/168 [==============================] - 2s 13ms/step - loss: 0.1919\n",
      "Epoch 93/200\n",
      "168/168 [==============================] - 2s 13ms/step - loss: 0.2054\n",
      "Epoch 94/200\n",
      "168/168 [==============================] - 2s 13ms/step - loss: 0.2068\n",
      "Epoch 95/200\n",
      "168/168 [==============================] - 2s 13ms/step - loss: 0.2110\n",
      "Epoch 96/200\n",
      "168/168 [==============================] - 2s 13ms/step - loss: 0.2088\n",
      "Epoch 97/200\n",
      "168/168 [==============================] - 2s 13ms/step - loss: 0.1871\n",
      "Epoch 98/200\n",
      "168/168 [==============================] - 2s 13ms/step - loss: 0.1954\n",
      "Epoch 99/200\n",
      "168/168 [==============================] - 2s 12ms/step - loss: 0.1941\n",
      "Epoch 100/200\n",
      "168/168 [==============================] - 2s 13ms/step - loss: 0.1914\n",
      "Epoch 101/200\n",
      "168/168 [==============================] - 2s 12ms/step - loss: 0.1854\n",
      "Epoch 102/200\n",
      "168/168 [==============================] - 2s 13ms/step - loss: 0.1937\n",
      "Epoch 103/200\n",
      "168/168 [==============================] - 2s 13ms/step - loss: 0.1757\n",
      "Epoch 104/200\n",
      "168/168 [==============================] - 2s 13ms/step - loss: 0.1715\n",
      "Epoch 105/200\n",
      "168/168 [==============================] - 2s 13ms/step - loss: 0.1866\n",
      "Epoch 106/200\n",
      "168/168 [==============================] - 2s 12ms/step - loss: 0.1748\n",
      "Epoch 107/200\n",
      "168/168 [==============================] - 2s 12ms/step - loss: 0.1760\n",
      "Epoch 108/200\n",
      "168/168 [==============================] - 2s 12ms/step - loss: 0.1639\n",
      "Epoch 109/200\n",
      "168/168 [==============================] - 2s 12ms/step - loss: 0.1720\n",
      "Epoch 110/200\n",
      "168/168 [==============================] - 2s 12ms/step - loss: 0.1674\n",
      "Epoch 111/200\n",
      "168/168 [==============================] - 2s 12ms/step - loss: 0.1584\n",
      "Epoch 112/200\n",
      "168/168 [==============================] - 2s 12ms/step - loss: 0.1535\n",
      "Epoch 113/200\n",
      "168/168 [==============================] - 2s 13ms/step - loss: 0.1616\n",
      "Epoch 114/200\n",
      "168/168 [==============================] - 2s 13ms/step - loss: 0.1652\n",
      "Epoch 115/200\n",
      "168/168 [==============================] - 2s 12ms/step - loss: 0.1566\n",
      "Epoch 116/200\n",
      "168/168 [==============================] - 2s 13ms/step - loss: 0.1519\n",
      "Epoch 117/200\n",
      "168/168 [==============================] - 2s 13ms/step - loss: 0.1551\n",
      "Epoch 118/200\n",
      "168/168 [==============================] - 2s 13ms/step - loss: 0.1519\n",
      "Epoch 119/200\n",
      "168/168 [==============================] - 2s 12ms/step - loss: 0.1567\n",
      "Epoch 120/200\n",
      "168/168 [==============================] - 2s 12ms/step - loss: 0.1361\n",
      "Epoch 121/200\n",
      "168/168 [==============================] - 2s 12ms/step - loss: 0.1441\n",
      "Epoch 122/200\n",
      "168/168 [==============================] - 2s 13ms/step - loss: 0.1555\n",
      "Epoch 123/200\n",
      "168/168 [==============================] - 2s 12ms/step - loss: 0.1513\n",
      "Epoch 124/200\n",
      "168/168 [==============================] - 2s 12ms/step - loss: 0.1431\n",
      "Epoch 125/200\n",
      "168/168 [==============================] - 2s 13ms/step - loss: 0.1389\n",
      "Epoch 126/200\n",
      "168/168 [==============================] - 2s 13ms/step - loss: 0.1362\n",
      "Epoch 127/200\n",
      "168/168 [==============================] - 2s 13ms/step - loss: 0.1319\n",
      "Epoch 128/200\n",
      "168/168 [==============================] - 2s 13ms/step - loss: 0.1519\n",
      "Epoch 129/200\n",
      "168/168 [==============================] - 2s 13ms/step - loss: 0.1305\n",
      "Epoch 130/200\n",
      "168/168 [==============================] - 2s 13ms/step - loss: 0.1399\n",
      "Epoch 131/200\n",
      "168/168 [==============================] - 2s 13ms/step - loss: 0.1370\n",
      "Epoch 132/200\n",
      "168/168 [==============================] - 2s 13ms/step - loss: 0.1299\n",
      "Epoch 133/200\n",
      "168/168 [==============================] - 2s 13ms/step - loss: 0.1304\n",
      "Epoch 134/200\n",
      "168/168 [==============================] - 2s 13ms/step - loss: 0.1352\n",
      "Epoch 135/200\n",
      "168/168 [==============================] - 2s 13ms/step - loss: 0.1337\n",
      "Epoch 136/200\n",
      "168/168 [==============================] - 2s 13ms/step - loss: 0.1283\n",
      "Epoch 137/200\n",
      "168/168 [==============================] - 2s 13ms/step - loss: 0.1294\n",
      "Epoch 138/200\n",
      "168/168 [==============================] - 2s 13ms/step - loss: 0.1265\n",
      "Epoch 139/200\n",
      "168/168 [==============================] - 2s 13ms/step - loss: 0.1177\n",
      "Epoch 140/200\n",
      "168/168 [==============================] - 2s 13ms/step - loss: 0.1174\n",
      "Epoch 141/200\n",
      "168/168 [==============================] - 2s 13ms/step - loss: 0.1311\n",
      "Epoch 142/200\n",
      "168/168 [==============================] - 2s 13ms/step - loss: 0.1302\n",
      "Epoch 143/200\n",
      "168/168 [==============================] - 2s 13ms/step - loss: 0.1287\n",
      "Epoch 144/200\n",
      "168/168 [==============================] - 2s 13ms/step - loss: 0.1220\n",
      "Epoch 145/200\n",
      "168/168 [==============================] - 2s 12ms/step - loss: 0.1220\n",
      "Epoch 146/200\n",
      "168/168 [==============================] - 2s 12ms/step - loss: 0.1168\n",
      "Epoch 147/200\n",
      "168/168 [==============================] - 2s 13ms/step - loss: 0.1172\n",
      "Epoch 148/200\n",
      "168/168 [==============================] - 2s 13ms/step - loss: 0.1150\n",
      "Epoch 149/200\n",
      "168/168 [==============================] - 2s 13ms/step - loss: 0.1251\n",
      "Epoch 150/200\n",
      "168/168 [==============================] - 2s 13ms/step - loss: 0.1095\n",
      "Epoch 151/200\n",
      "168/168 [==============================] - 2s 13ms/step - loss: 0.1161\n",
      "Epoch 152/200\n",
      "168/168 [==============================] - 2s 12ms/step - loss: 0.1179\n",
      "Epoch 153/200\n",
      "168/168 [==============================] - 2s 13ms/step - loss: 0.1158\n",
      "Epoch 154/200\n",
      "168/168 [==============================] - 2s 12ms/step - loss: 0.1123\n",
      "Epoch 155/200\n",
      "168/168 [==============================] - 2s 12ms/step - loss: 0.1109\n",
      "Epoch 156/200\n",
      "168/168 [==============================] - 2s 13ms/step - loss: 0.1096\n",
      "Epoch 157/200\n",
      "168/168 [==============================] - 2s 13ms/step - loss: 0.1157\n",
      "Epoch 158/200\n",
      "168/168 [==============================] - 2s 13ms/step - loss: 0.1083\n",
      "Epoch 159/200\n",
      "168/168 [==============================] - 2s 12ms/step - loss: 0.1089\n",
      "Epoch 160/200\n",
      "168/168 [==============================] - 2s 12ms/step - loss: 0.1080\n",
      "Epoch 161/200\n",
      "168/168 [==============================] - 2s 13ms/step - loss: 0.1021\n",
      "Epoch 162/200\n",
      "168/168 [==============================] - 2s 13ms/step - loss: 0.1130\n",
      "Epoch 163/200\n",
      "168/168 [==============================] - 2s 13ms/step - loss: 0.1107\n",
      "Epoch 164/200\n",
      "168/168 [==============================] - 2s 13ms/step - loss: 0.0986\n",
      "Epoch 165/200\n",
      "168/168 [==============================] - 2s 13ms/step - loss: 0.1116\n",
      "Epoch 166/200\n",
      "168/168 [==============================] - 2s 13ms/step - loss: 0.1030\n",
      "Epoch 167/200\n",
      "168/168 [==============================] - 2s 13ms/step - loss: 0.1048\n",
      "Epoch 168/200\n",
      "168/168 [==============================] - 2s 13ms/step - loss: 0.0992\n",
      "Epoch 169/200\n",
      "168/168 [==============================] - 2s 13ms/step - loss: 0.0947\n",
      "Epoch 170/200\n",
      "168/168 [==============================] - 2s 13ms/step - loss: 0.1042\n",
      "Epoch 171/200\n",
      "168/168 [==============================] - 2s 13ms/step - loss: 0.1006\n",
      "Epoch 172/200\n",
      "168/168 [==============================] - 2s 13ms/step - loss: 0.0960\n",
      "Epoch 173/200\n",
      "168/168 [==============================] - 2s 13ms/step - loss: 0.1014\n",
      "Epoch 174/200\n",
      "168/168 [==============================] - 2s 13ms/step - loss: 0.0974\n",
      "Epoch 175/200\n",
      "168/168 [==============================] - 2s 13ms/step - loss: 0.0958\n",
      "Epoch 176/200\n",
      "168/168 [==============================] - 2s 13ms/step - loss: 0.1018\n",
      "Epoch 177/200\n",
      "168/168 [==============================] - 2s 13ms/step - loss: 0.0970\n",
      "Epoch 178/200\n",
      "168/168 [==============================] - 2s 13ms/step - loss: 0.0957\n",
      "Epoch 179/200\n",
      "168/168 [==============================] - 2s 13ms/step - loss: 0.0943\n",
      "Epoch 180/200\n",
      "168/168 [==============================] - 2s 13ms/step - loss: 0.0865\n",
      "Epoch 181/200\n",
      "168/168 [==============================] - 2s 13ms/step - loss: 0.0924\n",
      "Epoch 182/200\n",
      "168/168 [==============================] - 2s 13ms/step - loss: 0.0991\n",
      "Epoch 183/200\n",
      "168/168 [==============================] - 2s 13ms/step - loss: 0.0944\n",
      "Epoch 184/200\n",
      "168/168 [==============================] - 2s 13ms/step - loss: 0.0910\n",
      "Epoch 185/200\n",
      "168/168 [==============================] - 2s 13ms/step - loss: 0.0893\n",
      "Epoch 186/200\n",
      "168/168 [==============================] - 2s 13ms/step - loss: 0.0883\n",
      "Epoch 187/200\n",
      "168/168 [==============================] - 2s 12ms/step - loss: 0.0981\n",
      "Epoch 188/200\n",
      "168/168 [==============================] - 2s 13ms/step - loss: 0.0921\n",
      "Epoch 189/200\n",
      "168/168 [==============================] - 2s 13ms/step - loss: 0.0898\n",
      "Epoch 190/200\n",
      "168/168 [==============================] - 2s 13ms/step - loss: 0.0909\n",
      "Epoch 191/200\n",
      "168/168 [==============================] - 2s 13ms/step - loss: 0.0808\n",
      "Epoch 192/200\n",
      "168/168 [==============================] - 2s 13ms/step - loss: 0.0923\n",
      "Epoch 193/200\n",
      "168/168 [==============================] - 2s 13ms/step - loss: 0.0839\n",
      "Epoch 194/200\n",
      "168/168 [==============================] - 2s 13ms/step - loss: 0.0954\n",
      "Epoch 195/200\n",
      "168/168 [==============================] - 2s 13ms/step - loss: 0.0824\n",
      "Epoch 196/200\n",
      "168/168 [==============================] - 2s 13ms/step - loss: 0.0838\n",
      "Epoch 197/200\n",
      "168/168 [==============================] - 2s 13ms/step - loss: 0.0842\n",
      "Epoch 198/200\n",
      "168/168 [==============================] - 2s 12ms/step - loss: 0.0832\n",
      "Epoch 199/200\n",
      "168/168 [==============================] - 2s 13ms/step - loss: 0.0899\n",
      "Epoch 200/200\n",
      "168/168 [==============================] - 2s 12ms/step - loss: 0.0868\n"
     ]
    }
   ],
   "source": [
    "# Training the Model\n",
    "history = model.fit(X_train, y_train, batch_size=256, epochs=200)"
   ]
  },
  {
   "cell_type": "code",
   "execution_count": 23,
   "id": "15301e59",
   "metadata": {
    "id": "5bee24e0"
   },
   "outputs": [
    {
     "data": {
      "text/plain": [
       "[Text(0.5, 0, 'Epochs')]"
      ]
     },
     "execution_count": 23,
     "metadata": {},
     "output_type": "execute_result"
    },
    {
     "data": {
      "image/png": "[encoded data removed]",
      "text/plain": [
       "<Figure size 1080x288 with 1 Axes>"
      ]
     },
     "metadata": {
      "image/png": {
       "height": 290,
       "width": 878
      }
     },
     "output_type": "display_data"
    }
   ],
   "source": [
    "# Plotting the learnings \n",
    "history_df = pd.DataFrame(history.history)\n",
    "fig = plt.figure(figsize=(15,4), facecolor=\"#97BACB\")\n",
    "fig.suptitle(\"Learning Plot of Model for Loss\")\n",
    "pl=sns.lineplot(data=history_df[\"loss\"],color=\"#444160\")\n",
    "pl.set(ylabel =\"Training Loss\")\n",
    "pl.set(xlabel =\"Epochs\")"
   ]
  },
  {
   "cell_type": "markdown",
   "id": "2f180e33",
   "metadata": {
    "id": "8c4d651e"
   },
   "source": [
    "## Training이 완료된 모델로 멜로디 생성"
   ]
  },
  {
   "cell_type": "code",
   "execution_count": 24,
   "id": "6e3fa7f1",
   "metadata": {
    "id": "50a16510"
   },
   "outputs": [
    {
     "name": "stderr",
     "output_type": "stream",
     "text": [
      "Changing working directory to: `/tmp/music21'\n",
      "Processing `/tmp/music21/tmp8u7zb67m.ly'\n",
      "Parsing...\n",
      "Interpreting music...[8][16][24]\n",
      "Preprocessing graphical objects...\n",
      "Calculating line breaks... \n",
      "Drawing systems... \n",
      "Layout output to `tmp8u7zb67m.ly.eps'...\n",
      "Converting to PNG...\n",
      "Layout output to `tmp8u7zb67m.ly-1.eps'...\n",
      "Layout output to `tmp8u7zb67m.ly-2.eps'...\n",
      "Layout output to `tmp8u7zb67m.ly-3.eps'...\n",
      "Layout output to `tmp8u7zb67m.ly-4.eps'...\n",
      "Writing tmp8u7zb67m.ly-systems.texi...\n",
      "Writing tmp8u7zb67m.ly-systems.tex...\n",
      "Writing tmp8u7zb67m.ly-systems.count...\n",
      "Success: compilation successfully completed\n"
     ]
    },
    {
     "data": {
      "image/png": "[encoded data removed]",
      "text/plain": [
       "<IPython.core.display.Image object>"
      ]
     },
     "metadata": {},
     "output_type": "display_data"
    }
   ],
   "source": [
    "def Malody_Generator(Note_Count):\n",
    "    seed = X_seed[np.random.randint(0,len(X_seed)-1)]\n",
    "    Music = \"\"\n",
    "    Notes_Generated=[]\n",
    "    for i in range(Note_Count):\n",
    "        seed = seed.reshape(1,length,1)\n",
    "        prediction = model.predict(seed, verbose=0)[0]\n",
    "        prediction = np.log(prediction) / 1.0 # diversity\n",
    "        exp_preds = np.exp(prediction)\n",
    "        prediction = exp_preds / np.sum(exp_preds)\n",
    "        index = np.argmax(prediction)\n",
    "        index_N = index/ float(L_symb)   \n",
    "        Notes_Generated.append(index)\n",
    "        Music = [reverse_mapping[char] for char in Notes_Generated]\n",
    "        seed = np.insert(seed[0],len(seed[0]),index_N)\n",
    "        seed = seed[1:]\n",
    "    # Now, we have music in form or a list of chords and notes and we want to be a midi file.\n",
    "    Melody = chords_n_notes(Music)\n",
    "    Melody_midi = stream.Stream(Melody)   \n",
    "    return Music,Melody_midi\n",
    "\n",
    "\n",
    "# Getting the Notes and Melody created by the model\n",
    "Music_notes, Melody = Malody_Generator(100)\n",
    "show(Melody)"
   ]
  },
  {
   "cell_type": "code",
   "execution_count": 26,
   "id": "0577a635",
   "metadata": {
    "id": "90b31d94"
   },
   "outputs": [
    {
     "data": {
      "text/plain": [
       "'melody_22기_김지훈.mid'"
      ]
     },
     "execution_count": 26,
     "metadata": {},
     "output_type": "execute_result"
    }
   ],
   "source": [
    "# 생성된 멜로디를 저장 (자동으로 다운로드 되니 본인 기수, 이름만 집어넣으면 됩니다.)\n",
    "#from google.colab import files\n",
    "file_name = 'melody_22기_김지훈.mid'\n",
    "Melody.write('midi', file_name)\n",
    "\n",
    "#files.download(file_name)"
   ]
  },
  {
   "cell_type": "markdown",
   "id": "7971ee61",
   "metadata": {
    "id": "d9daac68"
   },
   "source": [
    "## 과제 1: 생성된 MIDI file을 mp3 파일로 변환 후 업로드\n",
    "다음 링크에서 변환 후 이 ipynb 파일과 함께 Github에 업로드 해주세요.\n",
    "https://audio.online-convert.com/convert-to-mp3"
   ]
  },
  {
   "cell_type": "markdown",
   "id": "dea7f9e4",
   "metadata": {
    "id": "MLzmItj60zgM"
   },
   "source": [
    "## 과제 2: RNN, LSTM 관련 간단한 문제\n",
    "\n",
    "문항이 있는 cell에 답을 바로 입력해서 같이 제출해 주시면 됩니다. [ANSWER] 토큰을 지우고 답을 적으시면 됩니다. 발제 자료에 없는 내용이 있다면 구글링을 통해 해결하시면 됩니다.\n"
   ]
  },
  {
   "cell_type": "markdown",
   "id": "21ff88e4",
   "metadata": {
    "id": "vJlV1Dj-dmLE"
   },
   "source": [
    "## Question 1 (True / False)\n",
    "1. RNN에 hidden layer를 더 많이 추가하면 vanishing gradient 문제를 해결할 수 있다: False\n",
    "\n",
    "2. RNN에서 L2-regularization을 추가하면 vanishing gradient 문제를 해결할 수 있다: False"
   ]
  },
  {
   "cell_type": "markdown",
   "id": "02c91b54",
   "metadata": {
    "id": "lwkJVA5geXKJ"
   },
   "source": [
    "## Question 2 (Long answer)\n",
    "\n",
    "[참고] 장문의 답변을 쓸 필요는 없습니다. 핵심만 간단하게 서술하셔도 됩니다. \n",
    "\n",
    "1. RNN과 기존의 MLP, CNN 모델의 차이점을 서술하시오: </br> \n",
    "\n",
    "(1) 고정된 입력 데이터 크기를 요구하는 MLP, CNN과 달리 RNN은 입력 데이터의 크기가 가변적이다. (2) RNN은 시간순 정보를 활용한다.\n",
    "\n",
    "\n",
    "\n",
    "2. RNN에서 activation function으로 `tanh`를 사용하는 이유를 서술하시오: </br> \n",
    "\n",
    "(1) sigmoid에 비해 기울기 소실 문제에 강하다. (2) ReLU에 비해 기울기 폭발 문제에 강하다.\n",
    "\n",
    "\n",
    "\n",
    "3. RNN에서 hidden state가 하는 역할이 무엇인가요?: </br> \n",
    "\n",
    "시간순 데이터에 따라 재귀적으로 활동하여 이전 시점의 값을 기반으로 현재 시점의 출력값을 연산하고 자신의 값을 다음 시점으로 전달한다.\n",
    "\n",
    "\n",
    "\n",
    "4. RNN에서 일어나는 vanishing gradient 문제가 무엇인지, 그리고 그 원인이 무엇인지 설명하시오: </br>\n",
    "\n",
    "모델 학습 중 역전파가 진행될수록 1보다 작은 값으로 이루어진 기울기 matrix를 거듭하여 곱함에 따라 기울기 값이 0에 가까워져 앞부분의 loss가 제대로 반영되지 못하는 문제다.\n",
    "\n",
    "\n",
    "\n",
    "5. (Open question) RNN 모델들은 앞에서 들어온 내용들을 보고 다음을 예측하는 방식으로 동작합니다. 그러나 sequence에서 앞부분만이 아니라 뒷부분의 내용을 참고해서 output을 만들어내야 하는 경우가 있습니다. 이처럼 뒷부분 내용을 반영하여 sequence를 처리하는 모델의 구조를 생각하고 간단하게 설명해 보세요: </br> Hint: Bidirectional LSTM 키워드로 구글링</br>\n",
    "\n",
    "Bidirectional LSTM: 순방향으로 정보를 추출하는 일반적인 LSTM 모델과 달리 역방향으로도 정보를 추출할 수 있도록 LSTM을 양방향으로 겹쳐 놓은 구조다.\n"
   ]
  },
  {
   "cell_type": "markdown",
   "id": "8b09876c",
   "metadata": {
    "id": "6xT0onOH2jh6"
   },
   "source": [
    "# Submission format\n",
    "1. RNN_22기_XXX.ipynb (과제 2, 3에 대한 답도 같이 포함)\n",
    "2. melody_22기_XXX.mp3"
   ]
  },
  {
   "cell_type": "markdown",
   "id": "abc9876c",
   "metadata": {
    "id": "yMqVz4Xcy7zU"
   },
   "source": [
    "## Question 3 (Optional)\n",
    "## Pytorch로 RNN 구현해보기"
   ]
  },
  {
   "cell_type": "code",
   "execution_count": 1,
   "id": "2c5f1e68",
   "metadata": {
    "id": "aPXeRAFHzJRp"
   },
   "outputs": [
    {
     "name": "stderr",
     "output_type": "stream",
     "text": [
      "/opt/homebrew/Caskroom/miniforge/base/envs/pt/lib/python3.10/site-packages/tqdm/auto.py:22: TqdmWarning: IProgress not found. Please update jupyter and ipywidgets. See https://ipywidgets.readthedocs.io/en/stable/user_install.html\n",
      "  from .autonotebook import tqdm as notebook_tqdm\n"
     ]
    }
   ],
   "source": [
    "import numpy as np\n",
    "import random\n",
    "import torch\n",
    "import torch.nn as nn\n",
    "import torch.optim as optim\n",
    "from torch.utils.data import Dataset, DataLoader"
   ]
  },
  {
   "cell_type": "markdown",
   "id": "3e65623b",
   "metadata": {
    "id": "d8mdxxwVzQaJ"
   },
   "source": [
    "## 1. RNN 구현\n",
    "Pytorch로 neural network 모델을 구현할 때에는 `nn.Module`을 상속받아서 구현하게 됩니다. \n",
    "\n",
    "### [참고] 객체지향 개념을 잘 모른다면?\n",
    "객체지향 개념을 잘 모르신다면 <b>상속</b>이란 상속을 받은 클래스 (여기서는 CustomRNN)가 부모 클래스 (`nn.Module`)의 멤버 변수와 메소드를 그대로 넘겨받아 필요에 맞게 재정의하거나 기타 필요한 기능들을 추가해서 사용하는 행위로 쉽게 이해하시면 됩니다. 이를 통해 코드의 중복도를 낮추고 보다 효율적인 설계를 할 수 있습니다. \n",
    "\n",
    "예를 들어서 `nn.Module` 클래스를 상속받아 만든 모든 클래스들은 `__init()__` 생성자와 `forward()` 메소드를 구현함으로써 모든 neural network가 high level에서는 동일한 동작을 함을 보장할 수 있습니다.\n",
    "\n",
    "만약 상속 기능을 사용하지 않는다면 모델을 training하는 코드, inference를 하는 코드 등을 neural network 종류마다 새로 짜야 하므로 복잡해집니다.\n",
    "\n",
    "### 구현 관련 배경지식\n",
    "`nn.Module` 클래스를 상속받으면 `__init__()` 생성자와 `forward()` 메소드를 구현해야 합니다. 생성자에서는 모델에서 사용할 기본적인 멤버 변수들을 초기화하게 됩니다. 여기서 멤버 변수로는 크게 두 가지가 있습니다.\n",
    "1. 모델 아키텍쳐와 관련된 dimension들 (각각의 의미는 발제 PPT 참고)\n",
    " - Input vector의 길이\n",
    " - Hidden layer의 길이\n",
    " - Output vector의 길이\n",
    " - Batch size\n",
    "\n",
    "\n",
    "2. 모델에서 사용될 layer들\n",
    " - Pytorch의 `nn` module에서는 neural network에서 사용되는 다양한 layer를 미리 구현해 두었습니다. Convolution layer, pooling layer, linear layer 등이 정의되어 있어서 복잡한 연산을 직접 구현할 필요가 없습니다. 본 과제에서는 해당 layer를 쌓아서 RNN을 구현한다고 보시면 됩니다.\n",
    " - 본 과제에서는 Linear layer만 활용하면 됩니다. 이는 MLP 세션에서 배운 fully connected layer와 같습니다. FC layer이므로 input, output의 size와 bias 사용 유무만 정의해주면 됩니다. https://pytorch.org/docs/stable/generated/torch.nn.Linear.html#torch.nn.Linear\n",
    "\n",
    "\n",
    "생성자를 정의했으면 `forward()` 함수를 정의할 차례입니다. `forward()` 메소드가 모델 구현에서 핵심입니다. 이 메소드는 모델에 input data를 집어넣으면 자동으로 호출되고 argument로 input이 전달됩니다. 앞서 정의한 layer들을 잘 호출해서 메소드를 구현하시면 됩니다.\n",
    "\n",
    "\n",
    "*Backward pass는 모델 train을 할 때 `backward()`가 알아서 해주기 때문에 `forward()`만 정의하는 것입니다."
   ]
  },
  {
   "cell_type": "code",
   "execution_count": 2,
   "id": "3d026c7b",
   "metadata": {
    "id": "0o-orwWRIXd-"
   },
   "outputs": [],
   "source": [
    "# nn.Module을 상속받아서 CustomRNN class 정의\n",
    "\n",
    "class CustomRNN(nn.Module):\n",
    "    \"\"\"\n",
    "    RNN basic block\n",
    "    \"\"\"\n",
    "    def __init__(self, input_size, hidden_size, output_size):\n",
    "        \"\"\"\n",
    "        input_size: Input vector 길이\n",
    "        hidden_size: Hidden state vector 길이\n",
    "        output_size: Output vector 길이\n",
    "        \"\"\"\n",
    "        super().__init__()\n",
    "        self.input_size = input_size\n",
    "        self.hidden_size = hidden_size\n",
    "        self.output_size = output_size\n",
    "        \n",
    "        self.W_xh = nn.Linear(input_size, hidden_size, bias=False)\n",
    "        \n",
    "        ##################################################################\n",
    "        # TODO: 필요한 멤버 변수 2개를 추가로 정의하세요.\n",
    "        #\n",
    "        # 1. W_hh: hidden layer vector에 곱해지는 weight\n",
    "        # 2. W_hy: hidden layer로 output을 생성할 때 곱해지는 weight\n",
    "        #\n",
    "        # Hint: 위의 self.W_xh 코드를 참고하세요.\n",
    "        #\n",
    "        ##################################################################\n",
    "        # 아래 주석 해제 후 정의하시면 됩니다. bias는 둘 다 True로 해주세요.\n",
    "        self.W_hh = nn.Linear(hidden_size, hidden_size, bias=True)\n",
    "        self.W_hy = nn.Linear(hidden_size, output_size, bias=True)\n",
    "        ##################################################################\n",
    "        #                         END OF YOUR CODE                       #\n",
    "        ##################################################################\n",
    "        \n",
    "    def forward(self, x, hidden_state):\n",
    "        W_xh_x = self.W_xh(x)  # W_xh weight에 input x를 곱해준 결과\n",
    "        ##################################################################\n",
    "        # TODO: Forward pass를 계산하는 코드를 추가하세요.\n",
    "        #\n",
    "        ########################### 전체 과정 ##############################\n",
    "        #\n",
    "        # 1. W_xh와 input을 곱한다.\n",
    "        # 2. W_hh와 {t - 1} 시점에서의 hidden state vector를 곱한다.\n",
    "        # 3. 둘이 더한다.\n",
    "        # 4. tanh를 통과시켜서 새로운 hidden state를 만들어낸다.\n",
    "        # 5. W_hy와 새로운 hidden state를 곱해서 output을 만들어낸다.\n",
    "        # 6. output과 새로운 hidden state를 return한다.\n",
    "        #\n",
    "        # Hint: torch.tanh\n",
    "        #\n",
    "        ##################################################################\n",
    "        # 아래 주석 해제 후 추가하시면 됩니다.\n",
    "        W_hh_x = self.W_hh(hidden_state)\n",
    "        hidden_state = torch.tanh(W_xh_x + W_hh_x)\n",
    "        output = self.W_hy(hidden_state)\n",
    "        ##################################################################\n",
    "        #                         END OF YOUR CODE                       #\n",
    "        ##################################################################\n",
    "        # 아래 주석도 해제하세요.\n",
    "        return output, hidden_state"
   ]
  },
  {
   "cell_type": "markdown",
   "id": "43806723",
   "metadata": {
    "id": "WlOKWj_0zZqW"
   },
   "source": [
    "## 2. 아래 코드에서 Correct가 나오면 완료입니다."
   ]
  },
  {
   "cell_type": "code",
   "execution_count": 3,
   "id": "c74c7b72",
   "metadata": {
    "id": "5hcu_-zazbhO"
   },
   "outputs": [
    {
     "name": "stdout",
     "output_type": "stream",
     "text": [
      "Correct!!!\n"
     ]
    }
   ],
   "source": [
    "model = CustomRNN(5, 6, 7)\n",
    "model_str = str(model).splitlines()\n",
    "import numpy\n",
    "stack = []\n",
    "for i in range(1, 4):\n",
    "    stack.append(int(model_str[i][29]))\n",
    "    stack.append(int(model_str[i][45]))\n",
    "\n",
    "prod = numpy.prod(stack)\n",
    "\n",
    "if prod == 45360:\n",
    "    print(\"Correct!!!\")\n",
    "else:\n",
    "    print(\"Incorrect...\")"
   ]
  }
 ],
 "metadata": {
  "accelerator": "GPU",
  "colab": {
   "provenance": []
  },
  "gpuClass": "standard",
  "kernelspec": {
   "display_name": "Python 3 (ipykernel)",
   "language": "python",
   "name": "python3"
  },
  "language_info": {
   "codemirror_mode": {
    "name": "ipython",
    "version": 3
   },
   "file_extension": ".py",
   "mimetype": "text/x-python",
   "name": "python",
   "nbconvert_exporter": "python",
   "pygments_lexer": "ipython3",
   "version": "3.10.8"
  },
  "vscode": {
   "interpreter": {
    "hash": "1b82c739553dfd95004a44b4bcd8e35ceedbbba25dc6d1bcca9a99dc5a201b73"
   }
  }
 },
 "nbformat": 4,
 "nbformat_minor": 5
}
