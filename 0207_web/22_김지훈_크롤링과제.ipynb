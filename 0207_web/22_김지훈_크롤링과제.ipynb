{
 "cells": [
  {
   "cell_type": "code",
   "execution_count": 7,
   "metadata": {
    "colab": {
     "base_uri": "https://localhost:8080/",
     "height": 157
    },
    "executionInfo": {
     "elapsed": 2638,
     "status": "ok",
     "timestamp": 1659609898849,
     "user": {
      "displayName": "임우찬",
      "userId": "02861899588149660109"
     },
     "user_tz": -540
    },
    "id": "E2qtdbU8V8Gh",
    "outputId": "52094e80-1cbc-40c6-a24d-a8b42e014023"
   },
   "outputs": [],
   "source": [
    "import requests\n",
    "from bs4 import BeautifulSoup\n",
    "\n",
    "url = 'https://www.yonsei.ac.kr/sc/support/calendar.jsp' # 학사지원 -> 학사일정\n",
    "res = requests.get(url)\n",
    "\n",
    "soup = BeautifulSoup(res.text, 'html.parser') "
   ]
  },
  {
   "cell_type": "code",
   "execution_count": 31,
   "metadata": {
    "colab": {
     "base_uri": "https://localhost:8080/",
     "height": 53
    },
    "executionInfo": {
     "elapsed": 339,
     "status": "ok",
     "timestamp": 1659610179590,
     "user": {
      "displayName": "임우찬",
      "userId": "02861899588149660109"
     },
     "user_tz": -540
    },
    "id": "7RZgpvX3V8Gn",
    "outputId": "f0c8241e-e50e-403a-ac82-7fae2d39d0d1"
   },
   "outputs": [],
   "source": [
    "table = soup.find('table')"
   ]
  },
  {
   "cell_type": "code",
   "execution_count": 91,
   "metadata": {},
   "outputs": [],
   "source": [
    "headers = [th.text for th in table.select(\"tr th\")]"
   ]
  },
  {
   "cell_type": "code",
   "execution_count": 92,
   "metadata": {
    "colab": {
     "base_uri": "https://localhost:8080/",
     "height": 53
    },
    "executionInfo": {
     "elapsed": 386,
     "status": "ok",
     "timestamp": 1659610263020,
     "user": {
      "displayName": "임우찬",
      "userId": "02861899588149660109"
     },
     "user_tz": -540
    },
    "id": "Q8OJqoaZV8Gp",
    "outputId": "f2d6d91d-34be-4fbd-f739-fbed09e78a64"
   },
   "outputs": [],
   "source": [
    "headers2 = [td.text.replace('\\n', '').replace('\\t', '').replace('\\xa0', ' ').replace('/', '') for td in table.select(\"tr td\")]"
   ]
  },
  {
   "cell_type": "code",
   "execution_count": 98,
   "metadata": {
    "colab": {
     "base_uri": "https://localhost:8080/",
     "height": 35
    },
    "executionInfo": {
     "elapsed": 496,
     "status": "ok",
     "timestamp": 1659610573558,
     "user": {
      "displayName": "임우찬",
      "userId": "02861899588149660109"
     },
     "user_tz": -540
    },
    "id": "fSBe48gQU2ut",
    "outputId": "8ceaa3c0-19bf-4019-9f22-49818987d4be"
   },
   "outputs": [],
   "source": [
    "output = list(map(lambda x: (int(x.split(' ')[0]), []), headers))"
   ]
  },
  {
   "cell_type": "code",
   "execution_count": 99,
   "metadata": {},
   "outputs": [],
   "source": [
    "bf = 0\n",
    "idx = 0\n",
    "\n",
    "for i in range(0, len(headers2), 2):\n",
    "    nw = int(headers2[i].split('(')[0])\n",
    "    if nw < bf: idx += 1\n",
    "    output[idx][1].append(headers2[i] + headers2[i + 1])\n",
    "    bf = nw"
   ]
  },
  {
   "cell_type": "code",
   "execution_count": 100,
   "metadata": {
    "colab": {
     "base_uri": "https://localhost:8080/"
    },
    "executionInfo": {
     "elapsed": 359,
     "status": "ok",
     "timestamp": 1659610438417,
     "user": {
      "displayName": "임우찬",
      "userId": "02861899588149660109"
     },
     "user_tz": -540
    },
    "id": "gS-7sAXUvaeG",
    "outputId": "e0dde4b5-2db1-4b01-8d3f-b614a81083c9"
   },
   "outputs": [
    {
     "name": "stdout",
     "output_type": "stream",
     "text": [
      "2\n",
      "1(수) 휴 · 복학 접수 시작\n",
      "13(월)~17(금) 2023-1학기 수강신청\n",
      "17(금)~23(목) 2023-1학기 등록\n",
      "22(수) 복학 접수 마감\n",
      "26(일) 졸업예배\n",
      "27(월) 학위수여식\n",
      "\n",
      "3\n",
      "1(수) 삼일절\n",
      "2(목) 개강  교무위원회\n",
      "6(월)~8(수) 수강신청 확인 및 변경\n",
      "10(금)~13(월) 2023-1학기 추가등록\n",
      "13(월)~17(금) 조기졸업 신청\n",
      "15(수) 미등록자 일반 휴학 접수 마감  등록금 전액반환 마감\n",
      "\n",
      "4\n",
      "6(목) 교무위원회\n",
      "7(금) 학기 13선\n",
      "9(일)~15(토) 고난주간\n",
      "9(일) 부활절\n",
      "20(목)~26(수) 중간시험\n",
      "27(목)~5.3(수) 2023-2학기 캠퍼스내 소속변경 신청\n",
      "27(목)~5.1(월) 수강철회\n",
      "\n",
      "5\n",
      "1(월) 근로자의 날\n",
      "2(화)~4(목) SU평가 신청\n",
      "4(목) 교무위원회\n",
      "5(금) 어린이날\n",
      "10(수) 은퇴교수의 날\n",
      "13(토) 창립기념일\n",
      "15(월) 학기 23선  일반휴학 접수 마감\n",
      "27(토) 부처님 오신 날\n",
      "\n",
      "6\n",
      "1(목) 교무위원회  질병휴학 접수 마감\n",
      "4(일) 성령강림일\n",
      "6(화) 현충일\n",
      "8(목)~14(수) 자율학습 및 보충수업 기간\n",
      "15(목)~21(수) 학기말 시험\n",
      "22(목) 여름방학 시작\n",
      "22(목)~28(수) 2023-2학기 캠퍼스내 복수전공 · 연계전공 신청\n",
      "26(월) 여름계절제 수업 시작\n",
      "28(수) 2023-1학기 성적제출 마감\n",
      "\n",
      "7\n",
      "17(월) 여름계절제 수업 종료\n",
      "\n",
      "8\n",
      "1(화) 휴 · 복학 접수 시작\n",
      "15(화) 광복절\n",
      "16(수)~22(화) 2023-2학기 수강신청\n",
      "18(금)~24(목) 2023-2학기 등록\n",
      "25(금) 학위수여식  복학 접수 마감\n",
      "\n"
     ]
    }
   ],
   "source": [
    "for i in output:\n",
    "    print(i[0])\n",
    "    for j in i[1]:\n",
    "        print(j)\n",
    "    print()"
   ]
  },
  {
   "cell_type": "code",
   "execution_count": 113,
   "metadata": {},
   "outputs": [],
   "source": [
    "import selenium\n",
    "from selenium import webdriver\n",
    "\n",
    "driver = webdriver.Chrome()"
   ]
  },
  {
   "cell_type": "code",
   "execution_count": 114,
   "metadata": {
    "executionInfo": {
     "elapsed": 4941,
     "status": "ok",
     "timestamp": 1659611036766,
     "user": {
      "displayName": "임우찬",
      "userId": "02861899588149660109"
     },
     "user_tz": -540
    },
    "id": "VA70xIVMV8G6"
   },
   "outputs": [],
   "source": [
    "from selenium.webdriver.common.by import By\n",
    "from selenium.webdriver.common.keys import Keys\n",
    "\n",
    "driver.get('https://www.naver.com/') \n",
    "driver.implicitly_wait(5)"
   ]
  },
  {
   "cell_type": "code",
   "execution_count": 115,
   "metadata": {},
   "outputs": [],
   "source": [
    "search = driver.find_element(By.XPATH, '//*[@id=\"query\"]')\n",
    "search.send_keys('고려대학교')\n",
    "search.send_keys(Keys.RETURN)"
   ]
  },
  {
   "cell_type": "code",
   "execution_count": 120,
   "metadata": {},
   "outputs": [],
   "source": [
    "img = driver.find_element(By.XPATH, '//*[@id=\"main_pack\"]/div[2]/div[2]/div[1]/div/div[2]/a/img')\n",
    "img = requests.get(img.get_attribute('src')).content\n",
    "with open('img.jpg', 'wb') as handler:\n",
    "    handler.write(img)"
   ]
  },
  {
   "cell_type": "code",
   "execution_count": 121,
   "metadata": {},
   "outputs": [
    {
     "data": {
      "image/jpeg": "[encoded data removed]",
      "text/plain": [
       "<IPython.core.display.Image object>"
      ]
     },
     "execution_count": 121,
     "metadata": {},
     "output_type": "execute_result"
    }
   ],
   "source": [
    "from IPython.display import Image\n",
    "Image(filename='img.jpg') "
   ]
  },
  {
   "cell_type": "code",
   "execution_count": 122,
   "metadata": {},
   "outputs": [],
   "source": [
    "driver.close()"
   ]
  }
 ],
 "metadata": {
  "colab": {
   "collapsed_sections": [],
   "name": "크롤링 실습.ipynb",
   "provenance": []
  },
  "kernelspec": {
   "display_name": "web",
   "language": "python",
   "name": "python3"
  },
  "language_info": {
   "codemirror_mode": {
    "name": "ipython",
    "version": 3
   },
   "file_extension": ".py",
   "mimetype": "text/x-python",
   "name": "python",
   "nbconvert_exporter": "python",
   "pygments_lexer": "ipython3",
   "version": "3.11.0"
  },
  "vscode": {
   "interpreter": {
    "hash": "00968a83fdbadceeeaca14778d242361e50370bb5e5f1c4741075fe3ebcdf4fe"
   }
  }
 },
 "nbformat": 4,
 "nbformat_minor": 1
}
